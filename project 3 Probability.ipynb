{
  "nbformat": 4,
  "nbformat_minor": 0,
  "metadata": {
    "colab": {
      "name": "Untitled0.ipynb",
      "provenance": [],
      "include_colab_link": true
    },
    "kernelspec": {
      "name": "python3",
      "display_name": "Python 3"
    }
  },
  "cells": [
    {
      "cell_type": "markdown",
      "metadata": {
        "id": "view-in-github",
        "colab_type": "text"
      },
      "source": [
        "<a href=\"https://colab.research.google.com/github/SagarSitaula1/Discrete_math/blob/main/project%203%20Probability.ipynb\" target=\"_parent\"><img src=\"https://colab.research.google.com/assets/colab-badge.svg\" alt=\"Open In Colab\"/></a>"
      ]
    },
    {
      "cell_type": "markdown",
      "metadata": {
        "id": "YCJaepmmfKrS"
      },
      "source": [
        "# Project Part 3 : CPSMA 3133 Dr. Jacob's Discrete Mathematics \n",
        "\n",
        "## Probability\n",
        "\n",
        "### Sagar Sitaula and 267865\n",
        "\n",
        "\n"
      ]
    },
    {
      "cell_type": "markdown",
      "source": [
        "# Probability"
      ],
      "metadata": {
        "id": "vd1rojSOTXJC"
      }
    },
    {
      "cell_type": "markdown",
      "source": [
        "For the sample space, I will be using creating a random situation of card. Probability of getting first card Ace is 1/13.Probability of King is 1/13. Probability of neither is 11/13."
      ],
      "metadata": {
        "id": "_2Z3AwOcUq4i"
      }
    },
    {
      "cell_type": "code",
      "source": [
        "p = [1/13,1/13,11/13]\n",
        "sum(p)"
      ],
      "metadata": {
        "id": "pAD0Mz81W06V",
        "outputId": "f0fceee7-a072-42e0-b4cc-d4f17a3b39d9",
        "colab": {
          "base_uri": "https://localhost:8080/"
        }
      },
      "execution_count": 7,
      "outputs": [
        {
          "output_type": "execute_result",
          "data": {
            "text/plain": [
              "1.0"
            ]
          },
          "metadata": {},
          "execution_count": 7
        }
      ]
    },
    {
      "cell_type": "markdown",
      "source": [
        "A compound event is getting Ace or King. Lets call this draw R."
      ],
      "metadata": {
        "id": "igIk6eKMXasS"
      }
    },
    {
      "cell_type": "code",
      "source": [
        "ProbabilityR = 0\n",
        "\n",
        "for i in [0,1]:\n",
        "  ProbabilityR += p[i]\n",
        "\n",
        "ProbabilityR"
      ],
      "metadata": {
        "id": "nOBTBJvuYj__",
        "outputId": "88c45e07-4ece-46ba-c8de-47d11a0f8232",
        "colab": {
          "base_uri": "https://localhost:8080/"
        }
      },
      "execution_count": 13,
      "outputs": [
        {
          "output_type": "execute_result",
          "data": {
            "text/plain": [
              "0.15384615384615385"
            ]
          },
          "metadata": {},
          "execution_count": 13
        }
      ]
    },
    {
      "cell_type": "markdown",
      "source": [
        "Probablility of getting Ace and either Ace or King on two draws is \n",
        "\n",
        "$$P(A\\cap R)$$"
      ],
      "metadata": {
        "id": "w8JSDxbTbXao"
      }
    },
    {
      "cell_type": "code",
      "source": [
        "intersection = p[0] * ProbabilityR\n",
        "intersection"
      ],
      "metadata": {
        "id": "3Xr5YeNHb9X9",
        "outputId": "a4c4602f-0394-4a45-bd6d-727316d6880e",
        "colab": {
          "base_uri": "https://localhost:8080/"
        }
      },
      "execution_count": 14,
      "outputs": [
        {
          "output_type": "execute_result",
          "data": {
            "text/plain": [
              "0.01183431952662722"
            ]
          },
          "metadata": {},
          "execution_count": 14
        }
      ]
    },
    {
      "cell_type": "markdown",
      "source": [
        "Probability of getting Ace on second draw given you got Ace or King on First. $$\n",
        "P(A|R)=\\frac{P(A\\cap R)}{P(R)}\n",
        "$$"
      ],
      "metadata": {
        "id": "snjhT8fVcjqK"
      }
    },
    {
      "cell_type": "code",
      "source": [
        "RGA = intersection/ProbabilityR\n",
        "RGA"
      ],
      "metadata": {
        "id": "1pB3e82cc4iE",
        "outputId": "83efc267-00cb-486f-aa94-fc172de8a130",
        "colab": {
          "base_uri": "https://localhost:8080/"
        }
      },
      "execution_count": 15,
      "outputs": [
        {
          "output_type": "execute_result",
          "data": {
            "text/plain": [
              "0.07692307692307693"
            ]
          },
          "metadata": {},
          "execution_count": 15
        }
      ]
    },
    {
      "cell_type": "markdown",
      "source": [
        "Probability of getting Ace or King on second draw given that you got Ace on first draw\n",
        "\n",
        "$$\n",
        "P(R|A)=\\frac{P(R\\cap A)}{P(A)}\n",
        "$$"
      ],
      "metadata": {
        "id": "kYJF-5UJc88e"
      }
    },
    {
      "cell_type": "code",
      "source": [
        "AGR = intersection/p[0]\n",
        "AGR"
      ],
      "metadata": {
        "id": "xjKkcaBFdCl4",
        "outputId": "7139c5b1-5c31-452d-d7ce-b8e4d011ae05",
        "colab": {
          "base_uri": "https://localhost:8080/"
        }
      },
      "execution_count": 16,
      "outputs": [
        {
          "output_type": "execute_result",
          "data": {
            "text/plain": [
              "0.15384615384615385"
            ]
          },
          "metadata": {},
          "execution_count": 16
        }
      ]
    },
    {
      "cell_type": "markdown",
      "source": [
        "Applying Baye's\n",
        "\n",
        "$$\n",
        "P(A|R) = \\frac{P(A)P(R|A)}{P(R)}\n",
        "$$"
      ],
      "metadata": {
        "id": "t_lgSrpOdKb_"
      }
    },
    {
      "cell_type": "code",
      "source": [
        "RGA == (p[0] * AGR)/ProbabilityR"
      ],
      "metadata": {
        "id": "nFDUMYKrdLXJ",
        "outputId": "86d5f14c-4ed5-4c9f-84a8-0a35720f9e0b",
        "colab": {
          "base_uri": "https://localhost:8080/"
        }
      },
      "execution_count": 17,
      "outputs": [
        {
          "output_type": "execute_result",
          "data": {
            "text/plain": [
              "True"
            ]
          },
          "metadata": {},
          "execution_count": 17
        }
      ]
    },
    {
      "cell_type": "markdown",
      "source": [
        "Simulation. I will be computing the frequency counts so I will be multiplying by 13."
      ],
      "metadata": {
        "id": "7C1zGxdWdQkn"
      }
    },
    {
      "cell_type": "code",
      "source": [
        "p13 = [13*i for i in p]\n",
        "p13"
      ],
      "metadata": {
        "id": "B65c635SdTKa",
        "outputId": "ce6da1bf-fd40-4493-a003-55cebb763440",
        "colab": {
          "base_uri": "https://localhost:8080/"
        }
      },
      "execution_count": 18,
      "outputs": [
        {
          "output_type": "execute_result",
          "data": {
            "text/plain": [
              "[1.0, 1.0, 11.0]"
            ]
          },
          "metadata": {},
          "execution_count": 18
        }
      ]
    },
    {
      "cell_type": "markdown",
      "source": [
        "I will be using random library and simulate 10 draws to see if the probability closely matches the random draws."
      ],
      "metadata": {
        "id": "lP90dNJCdXmB"
      }
    },
    {
      "cell_type": "code",
      "source": [
        "from random import choices\n",
        "\n",
        "\n",
        "draw = choices(['Ace','King','Other'],p13,k=10)\n",
        "print(draw)\n",
        "\n",
        "countAce = 0;\n",
        "countKing = 0;\n",
        "countOthers = 0;\n",
        "\n",
        "for i in draw:\n",
        "  if i == 'Ace':\n",
        "    countAce += 1\n",
        "  if i == 'King':\n",
        "    countKing += 1\n",
        "  if i == 'Other':\n",
        "    countOthers += 1\n",
        "\n",
        "estimateProb = [countAce/len(draw), countKing/len(draw), countOthers/len(draw)]\n",
        "estimateProb"
      ],
      "metadata": {
        "id": "Q8I7kXOYdY74",
        "outputId": "0bf2e5df-c681-4c17-b2e1-ecb4c7fb7289",
        "colab": {
          "base_uri": "https://localhost:8080/"
        }
      },
      "execution_count": 19,
      "outputs": [
        {
          "output_type": "stream",
          "name": "stdout",
          "text": [
            "['Ace', 'Other', 'Other', 'Other', 'Other', 'Other', 'Other', 'Other', 'Other', 'Other']\n"
          ]
        },
        {
          "output_type": "execute_result",
          "data": {
            "text/plain": [
              "[0.1, 0.0, 0.9]"
            ]
          },
          "metadata": {},
          "execution_count": 19
        }
      ]
    },
    {
      "cell_type": "markdown",
      "source": [
        "I can see from the the simulation we can see the random draws closely matches the Probability."
      ],
      "metadata": {
        "id": "FMO5zbBidsEw"
      }
    }
  ]
}