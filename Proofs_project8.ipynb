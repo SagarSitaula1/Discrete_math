{
  "nbformat": 4,
  "nbformat_minor": 0,
  "metadata": {
    "colab": {
      "name": "Untitled0.ipynb",
      "provenance": [],
      "include_colab_link": true
    },
    "kernelspec": {
      "name": "python3",
      "display_name": "Python 3"
    }
  },
  "cells": [
    {
      "cell_type": "markdown",
      "metadata": {
        "id": "view-in-github",
        "colab_type": "text"
      },
      "source": [
        "<a href=\"https://colab.research.google.com/github/SagarSitaula1/Discrete_math/blob/main/Proofs_project8.ipynb\" target=\"_parent\"><img src=\"https://colab.research.google.com/assets/colab-badge.svg\" alt=\"Open In Colab\"/></a>"
      ]
    },
    {
      "cell_type": "markdown",
      "metadata": {
        "id": "YCJaepmmfKrS"
      },
      "source": [
        "# Project Part 8# : CPSMA 3133 [Dr. Jacob's](https://github.com/nurfnick) Discrete Mathematics \n",
        "\n",
        "## Proofs\n",
        "\n",
        "### Sagar Sitaula and 267865\n",
        "\n",
        "\n"
      ]
    },
    {
      "cell_type": "markdown",
      "source": [
        "In the final section of this project I will explore proofs.\n",
        "\n",
        "I will use the equation y=4x+3 to do this"
      ],
      "metadata": {
        "id": "dEqCY17Jtmuk"
      }
    },
    {
      "cell_type": "code",
      "source": [
        "import math\n",
        "import numpy as np\n",
        "import matplotlib.pyplot as plt\n",
        "\n",
        "inputs = np.array(range(5))\n",
        "function = 4*inputs+3\n",
        "plt.plot(inputs,function)"
      ],
      "metadata": {
        "id": "snuCiOKGtvtB",
        "outputId": "1e2130b0-e300-44fa-ef98-0fe0d5a6432c",
        "colab": {
          "base_uri": "https://localhost:8080/",
          "height": 282
        }
      },
      "execution_count": 4,
      "outputs": [
        {
          "output_type": "execute_result",
          "data": {
            "text/plain": [
              "[<matplotlib.lines.Line2D at 0x7f04b3e89d50>]"
            ]
          },
          "metadata": {},
          "execution_count": 4
        },
        {
          "output_type": "display_data",
          "data": {
            "image/png": "[encoded data removed]",
            "text/plain": [
              "<Figure size 432x288 with 1 Axes>"
            ]
          },
          "metadata": {
            "needs_background": "light"
          }
        }
      ]
    },
    {
      "cell_type": "markdown",
      "source": [
        "Form the graph above, I cann see it looks correct.  "
      ],
      "metadata": {
        "id": "d3IV0oe9vYUE"
      }
    },
    {
      "cell_type": "code",
      "source": [
        "4 ==  3*0+4"
      ],
      "metadata": {
        "id": "dLo6aKVBvp8k",
        "outputId": "2cb9a385-c526-482e-e9f7-ce3b329df5f1",
        "colab": {
          "base_uri": "https://localhost:8080/"
        }
      },
      "execution_count": 5,
      "outputs": [
        {
          "output_type": "execute_result",
          "data": {
            "text/plain": [
              "True"
            ]
          },
          "metadata": {},
          "execution_count": 5
        }
      ]
    },
    {
      "cell_type": "markdown",
      "source": [
        "Working with linear equations is a fascinating subject. In a python graph, I tried using non-zero values for (x,b). I received the predicted result, making it much easy to determine whether it is in the y-intercepts or not. Great! That is also true for me."
      ],
      "metadata": {
        "id": "LRJYkuaqv2Bs"
      }
    }
  ]
}