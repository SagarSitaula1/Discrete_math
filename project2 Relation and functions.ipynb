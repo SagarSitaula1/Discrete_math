{
  "nbformat": 4,
  "nbformat_minor": 0,
  "metadata": {
    "colab": {
      "name": "Untitled0.ipynb",
      "provenance": [],
      "include_colab_link": true
    },
    "kernelspec": {
      "name": "python3",
      "display_name": "Python 3"
    }
  },
  "cells": [
    {
      "cell_type": "markdown",
      "metadata": {
        "id": "view-in-github",
        "colab_type": "text"
      },
      "source": [
        "<a href=\"https://colab.research.google.com/github/SagarSitaula1/Discrete_math/blob/main/project2%20Relation%20and%20functions.ipynb\" target=\"_parent\"><img src=\"https://colab.research.google.com/assets/colab-badge.svg\" alt=\"Open In Colab\"/></a>"
      ]
    },
    {
      "cell_type": "markdown",
      "metadata": {
        "id": "YCJaepmmfKrS"
      },
      "source": [
        "# Project Part 2 : CPSMA 3133 Dr. Jacob's Discrete Mathematics \n",
        "\n",
        "## Relation and Function\n",
        "\n",
        "### Sagar Sitaula and 267865\n",
        "\n",
        "\n"
      ]
    },
    {
      "cell_type": "markdown",
      "source": [
        "# Function"
      ],
      "metadata": {
        "id": "msTmaFXuu7NW"
      }
    },
    {
      "cell_type": "markdown",
      "source": [
        "For the project part 2 I have used a simple function.\n",
        "\n",
        "$$\n",
        "f(x) = \\frac{20x^3}{x\\pi^2} + x\n",
        "$$"
      ],
      "metadata": {
        "id": "L_LpqyY3vD2l"
      }
    },
    {
      "cell_type": "markdown",
      "source": [
        "Now, after defining my function, now I will be using python to code the function and see its different features."
      ],
      "metadata": {
        "id": "gJY19C8Evn1N"
      }
    },
    {
      "cell_type": "code",
      "metadata": {
        "id": "5U5T3Fld5X0S"
      },
      "source": [
        "import math\n",
        "import numpy as np\n",
        "\n",
        "def random(x):\n",
        "  return ((20*x**3)/(x*math.pi**2))+ x"
      ],
      "execution_count": 4,
      "outputs": []
    },
    {
      "cell_type": "markdown",
      "source": [
        "Above I have used a python to define the function and now i will be checking if it works."
      ],
      "metadata": {
        "id": "5lBg89o0wHLJ"
      }
    },
    {
      "cell_type": "code",
      "source": [
        "random(4)"
      ],
      "metadata": {
        "colab": {
          "base_uri": "https://localhost:8080/"
        },
        "id": "vepZ5qv_wSYe",
        "outputId": "43eb9630-324b-4522-9a04-74fe284c4bb5"
      },
      "execution_count": 5,
      "outputs": [
        {
          "output_type": "execute_result",
          "data": {
            "text/plain": [
              "36.42277876554809"
            ]
          },
          "metadata": {},
          "execution_count": 5
        }
      ]
    },
    {
      "cell_type": "code",
      "source": [
        "random(120)"
      ],
      "metadata": {
        "colab": {
          "base_uri": "https://localhost:8080/"
        },
        "id": "VKUaL2muwdrc",
        "outputId": "a0f6f640-5466-41bb-d15c-2dfa3fd63bf2"
      },
      "execution_count": 7,
      "outputs": [
        {
          "output_type": "execute_result",
          "data": {
            "text/plain": [
              "29300.50088899328"
            ]
          },
          "metadata": {},
          "execution_count": 7
        }
      ]
    },
    {
      "cell_type": "markdown",
      "source": [
        "Now, that I can see my function works, I will be now attempt to graph the function. "
      ],
      "metadata": {
        "id": "BerWBvhlwl4W"
      }
    },
    {
      "cell_type": "code",
      "source": [
        "import matplotlib.pyplot as plt\n",
        "\n",
        "x = np.arange(-2,1200,.2)\n",
        "plt.plot(x,random(x))"
      ],
      "metadata": {
        "colab": {
          "base_uri": "https://localhost:8080/",
          "height": 294
        },
        "id": "_vPBs98ixRM5",
        "outputId": "3c8e837e-b4ca-4783-af65-466d7b12aa29"
      },
      "execution_count": 9,
      "outputs": [
        {
          "output_type": "execute_result",
          "data": {
            "text/plain": [
              "[<matplotlib.lines.Line2D at 0x7fa99c594610>]"
            ]
          },
          "metadata": {},
          "execution_count": 9
        },
        {
          "output_type": "display_data",
          "data": {
            "image/png": "[encoded data removed]",
            "text/plain": [
              "<Figure size 432x288 with 1 Axes>"
            ]
          },
          "metadata": {
            "needs_background": "light"
          }
        }
      ]
    },
    {
      "cell_type": "code",
      "source": [
        "A = {'Lewandowski','Ronaldo','Mbappe','Kane','Suarez','Muller'}\n",
        "B = {'Gundogan','Mount','Fred','Kimmich','Pogba','Kante','Muller'}\n",
        "\n",
        "dictionary = dict({a:b for a,b in zip(A,B)})"
      ],
      "metadata": {
        "id": "rqK9NHGR0XhA"
      },
      "execution_count": 10,
      "outputs": []
    },
    {
      "cell_type": "code",
      "source": [
        "dictionary"
      ],
      "metadata": {
        "id": "U49ZwPdd01en",
        "outputId": "c30985d3-34b2-4b43-d91c-2e3f9d9e44bf",
        "colab": {
          "base_uri": "https://localhost:8080/"
        }
      },
      "execution_count": 11,
      "outputs": [
        {
          "output_type": "execute_result",
          "data": {
            "text/plain": [
              "{'Kane': 'Muller',\n",
              " 'Lewandowski': 'Mount',\n",
              " 'Mbappe': 'Pogba',\n",
              " 'Muller': 'Fred',\n",
              " 'Ronaldo': 'Kante',\n",
              " 'Suarez': 'Gundogan'}"
            ]
          },
          "metadata": {},
          "execution_count": 11
        }
      ]
    },
    {
      "cell_type": "code",
      "source": [
        "actualDictionary = dict({'kane':'muller', 'kante':'ronaldo', 'ronaldo':'kane'})"
      ],
      "metadata": {
        "id": "uIsM2KZK2qyO"
      },
      "execution_count": 18,
      "outputs": []
    },
    {
      "cell_type": "code",
      "source": [
        "players= [actualDictionary.get(x,x) for x in A]"
      ],
      "metadata": {
        "id": "4EZPKqgM3A51"
      },
      "execution_count": 16,
      "outputs": []
    },
    {
      "cell_type": "code",
      "source": [
        "players"
      ],
      "metadata": {
        "id": "V7LoYJtb3MsR",
        "outputId": "43a0456d-1146-48ff-83bf-5360c54650f7",
        "colab": {
          "base_uri": "https://localhost:8080/"
        }
      },
      "execution_count": 17,
      "outputs": [
        {
          "output_type": "execute_result",
          "data": {
            "text/plain": [
              "['Lewandowski', 'Ronaldo', 'Kane', 'Muller', 'Suarez', 'Mbappe']"
            ]
          },
          "metadata": {},
          "execution_count": 17
        }
      ]
    },
    {
      "cell_type": "markdown",
      "source": [
        "After I defined a Dictionaries using the python code, I think it is not onto which is also not bijective.\n",
        "\n",
        "Also this functions is not relexive as one element transfers to another one but not itself.This is also not symmetric and transitive."
      ],
      "metadata": {
        "id": "-HcpMCAd3a1h"
      }
    },
    {
      "cell_type": "markdown",
      "source": [
        "Lets find out how many relation is possible. It can be found out by using a a formula 2^n."
      ],
      "metadata": {
        "id": "JyDPqd4p4-83"
      }
    },
    {
      "cell_type": "code",
      "source": [
        "X= len(players)\n",
        "2**X"
      ],
      "metadata": {
        "id": "nv5coNN45Qpq",
        "outputId": "b947c992-751f-411e-b82a-b3572e49bf38",
        "colab": {
          "base_uri": "https://localhost:8080/"
        }
      },
      "execution_count": 23,
      "outputs": [
        {
          "output_type": "execute_result",
          "data": {
            "text/plain": [
              "64"
            ]
          },
          "metadata": {},
          "execution_count": 23
        }
      ]
    },
    {
      "cell_type": "markdown",
      "source": [
        "So, there are total 64 relation possible."
      ],
      "metadata": {
        "id": "38FdArxm5j0R"
      }
    }
  ]
}