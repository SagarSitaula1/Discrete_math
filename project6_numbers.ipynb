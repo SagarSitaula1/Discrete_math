{
  "nbformat": 4,
  "nbformat_minor": 0,
  "metadata": {
    "colab": {
      "name": "Untitled0.ipynb",
      "provenance": [],
      "include_colab_link": true
    },
    "kernelspec": {
      "name": "python3",
      "display_name": "Python 3"
    }
  },
  "cells": [
    {
      "cell_type": "markdown",
      "metadata": {
        "id": "view-in-github",
        "colab_type": "text"
      },
      "source": [
        "<a href=\"https://colab.research.google.com/github/SagarSitaula1/Discrete_math/blob/main/project6_numbers.ipynb\" target=\"_parent\"><img src=\"https://colab.research.google.com/assets/colab-badge.svg\" alt=\"Open In Colab\"/></a>"
      ]
    },
    {
      "cell_type": "markdown",
      "metadata": {
        "id": "YCJaepmmfKrS"
      },
      "source": [
        "# Project Part 6 # : CPSMA 3133 [Dr. Jacob's](https://github.com/nurfnick) Discrete Mathematics \n",
        "\n",
        "## Numbers\n",
        "\n",
        "### Sagar Sitaula and 267865\n",
        "\n",
        "\n"
      ]
    },
    {
      "cell_type": "markdown",
      "source": [
        "Here, I am going to convert number 24036 which is in base 7 to base 10."
      ],
      "metadata": {
        "id": "-E6rysWVqfPr"
      }
    },
    {
      "cell_type": "code",
      "source": [
        "x = 0\n",
        "y = 0\n",
        "number = '24036'\n",
        "base = 7\n",
        "for c in map(int, number):\n",
        "  y += 1\n",
        "  x += c * (base**(len(number) - y))\n",
        "x"
      ],
      "metadata": {
        "id": "dPRzBv7Pph6Y",
        "outputId": "ed50876c-b08a-4419-d57d-87c2e6b0fbad",
        "colab": {
          "base_uri": "https://localhost:8080/"
        }
      },
      "execution_count": null,
      "outputs": [
        {
          "output_type": "execute_result",
          "data": {
            "text/plain": [
              "6201"
            ]
          },
          "metadata": {},
          "execution_count": 2
        }
      ]
    },
    {
      "cell_type": "markdown",
      "source": [
        "on the above calculation y is the number of count and x is the converted number.Both are set to zero which will run through the loop and convert the number into decimal which is base 10.\n",
        "\n",
        "Similarly, I will be converting the hexadecimal number 72e3 into base 10."
      ],
      "metadata": {
        "id": "fpacQhY7rH_Y"
      }
    },
    {
      "cell_type": "code",
      "source": [
        "x = 0\n",
        "y = 0\n",
        "number = '72e3'\n",
        "numberLength = len(number)\n",
        "\n",
        "for i in number:\n",
        "    \n",
        "    y += 1\n",
        "    if i == 'a':\n",
        "      I = 10\n",
        "\n",
        "    elif i == 'b':\n",
        "      I = 11\n",
        "\n",
        "    elif i == 'c':\n",
        "      I = 12\n",
        "\n",
        "    elif i == 'd':\n",
        "      I = 13\n",
        "\n",
        "    elif i == 'e':\n",
        "      I = 14\n",
        "\n",
        "    elif i == 'f':\n",
        "      I = 15\n",
        "\n",
        "    else:\n",
        "      I = int(i)\n",
        "\n",
        "    x += I * (16**(numberLength - y))\n",
        "x"
      ],
      "metadata": {
        "id": "jsv8P9j1sn7O",
        "outputId": "3056ae8c-fd57-448e-8ce6-2b5e4f5384df",
        "colab": {
          "base_uri": "https://localhost:8080/"
        }
      },
      "execution_count": null,
      "outputs": [
        {
          "output_type": "execute_result",
          "data": {
            "text/plain": [
              "29411"
            ]
          },
          "metadata": {},
          "execution_count": 14
        }
      ]
    },
    {
      "cell_type": "markdown",
      "source": [
        "Here on the code I have defined x and y as 0 and as they run through the loop the resulted are calculated. The tricky thing while converting a hexadecimal number is defining the letter with their corresponding numerical values.\n",
        "\n",
        "Similarly, now I will be converting the number 3735928559 which is in base 10 to base 16(hexa decimal)"
      ],
      "metadata": {
        "id": "0zIsgBl1tsPT"
      }
    },
    {
      "cell_type": "code",
      "source": [
        "number = 3735928559\n",
        "x = 0\n",
        "hex = \"\"\n",
        "for k in range(0,8,1):\n",
        "  numd = int(number%16)\n",
        "  number = number - numd\n",
        "  number = number/16\n",
        "  if numd > 9:\n",
        "    if numd == 10: numd = \"A\"\n",
        "    elif numd == 11: numd = \"B\"\n",
        "    elif numd == 12: numd = \"C\"\n",
        "    elif numd == 13: numd = \"D\"\n",
        "    elif numd == 14: numd = \"E\"\n",
        "    elif numd == 15: numd = \"F\"\n",
        "    elif numd == 16: numd = 10\n",
        "    numd = str(numd)\n",
        "  hex = numd+hex\n",
        "print(hex)"
      ],
      "metadata": {
        "id": "N1_1zUpSuEcD",
        "outputId": "c791453d-82f3-4821-d04e-792cbd23a838",
        "colab": {
          "base_uri": "https://localhost:8080/"
        }
      },
      "execution_count": null,
      "outputs": [
        {
          "output_type": "stream",
          "name": "stdout",
          "text": [
            "DEADBEEF\n"
          ]
        }
      ]
    },
    {
      "cell_type": "markdown",
      "source": [
        "Now, I will be calculating the two complement for 25 - 27. For calculating the two's complement I will be utilizing the built in python function."
      ],
      "metadata": {
        "id": "uaE8Eu-yw3ZB"
      }
    },
    {
      "cell_type": "code",
      "source": [
        "a = 25\n",
        "b = 37\n",
        "ones_b = ~b\n",
        "twos_b = ones_b+1\n",
        "output = a+twos_b\n",
        "print(output)"
      ],
      "metadata": {
        "id": "yMDt7F45u-sL",
        "outputId": "6564a7d8-023e-4ac7-95ba-fdad3b7f9584",
        "colab": {
          "base_uri": "https://localhost:8080/"
        }
      },
      "execution_count": 1,
      "outputs": [
        {
          "output_type": "stream",
          "name": "stdout",
          "text": [
            "-12\n"
          ]
        }
      ]
    },
    {
      "cell_type": "markdown",
      "source": [
        "On the code above, I calculated a one's complement first and stored the the output after calculating the two's complement which gave -12 as the answer.\n",
        "\n",
        "I really enjoyed this project, the conversion can be calculated using different method like mathmatially calculated by multiplying by their respective base number, but on my I have used different foor loop to calculate and store the conversion."
      ],
      "metadata": {
        "id": "a49C2cnqx6gI"
      }
    }
  ]
}