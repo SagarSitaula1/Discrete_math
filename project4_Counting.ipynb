{
  "nbformat": 4,
  "nbformat_minor": 0,
  "metadata": {
    "colab": {
      "name": "Untitled0.ipynb",
      "provenance": [],
      "include_colab_link": true
    },
    "kernelspec": {
      "name": "python3",
      "display_name": "Python 3"
    }
  },
  "cells": [
    {
      "cell_type": "markdown",
      "metadata": {
        "id": "view-in-github",
        "colab_type": "text"
      },
      "source": [
        "<a href=\"https://colab.research.google.com/github/SagarSitaula1/Discrete_math/blob/main/project4_Counting.ipynb\" target=\"_parent\"><img src=\"https://colab.research.google.com/assets/colab-badge.svg\" alt=\"Open In Colab\"/></a>"
      ]
    },
    {
      "cell_type": "markdown",
      "metadata": {
        "id": "YCJaepmmfKrS"
      },
      "source": [
        "# Project Part 4 : CPSMA 3133 Dr. Jacob's Discrete Mathematics \n",
        "\n",
        "## Counting\n",
        "\n",
        "### Sagar Sitaula and 267865\n",
        "\n",
        "\n"
      ]
    },
    {
      "cell_type": "markdown",
      "source": [
        "# Counting"
      ],
      "metadata": {
        "id": "kpj8TXndzcYB"
      }
    },
    {
      "cell_type": "code",
      "source": [
        "possibleCard = ['hearts','spades','diamonds','clubs']"
      ],
      "metadata": {
        "id": "1za-Pb5ozyNI"
      },
      "execution_count": 4,
      "outputs": []
    },
    {
      "cell_type": "markdown",
      "source": [
        "Since, I am using cards and there are four different types of symbol or shape to determine the card my posibilities in 10 sequences would be $4^{10}$.That means for every ten time I draw a card there will be four possibilities!\n",
        "\n",
        "$$ 4*4*4\\dots *4 = 4^{10} $$\n"
      ],
      "metadata": {
        "id": "Ef3cKMHozgJH"
      }
    },
    {
      "cell_type": "code",
      "metadata": {
        "id": "5U5T3Fld5X0S",
        "outputId": "6338c753-d385-4e01-96e0-eff5447ccade",
        "colab": {
          "base_uri": "https://localhost:8080/"
        }
      },
      "source": [
        "4**10"
      ],
      "execution_count": 5,
      "outputs": [
        {
          "output_type": "execute_result",
          "data": {
            "text/plain": [
              "1048576"
            ]
          },
          "metadata": {},
          "execution_count": 5
        }
      ]
    },
    {
      "cell_type": "markdown",
      "source": [
        "We have 10 spaces to fill four categories. Since the space is greater than the category we wil have to repeat the categories. We can use pigeanhole pricinple for this where n is the number space and m is the number of categories.\n",
        "\n",
        "$$\n",
        "\\frac{(n+m−1)!}{n!(m−1)!}\n",
        "$$"
      ],
      "metadata": {
        "id": "QJ4IVEZN2-bu"
      }
    },
    {
      "cell_type": "code",
      "source": [
        "import math\n",
        "\n",
        "math.factorial(13)/(math.factorial(10)*math.factorial(3))"
      ],
      "metadata": {
        "id": "HpTMnIUd4Xmz",
        "outputId": "4c0c1071-6413-4455-bc4a-ad2d4ebadbad",
        "colab": {
          "base_uri": "https://localhost:8080/"
        }
      },
      "execution_count": 6,
      "outputs": [
        {
          "output_type": "execute_result",
          "data": {
            "text/plain": [
              "286.0"
            ]
          },
          "metadata": {},
          "execution_count": 6
        }
      ]
    },
    {
      "cell_type": "markdown",
      "source": [
        "If not allowed to repeat the categories we cannot fill the 10 spaces. We can only have 4 spaces maximum for 4 categories. \n",
        "\n",
        "If order matters we use $4!$\n",
        "\n",
        "If order doesn't matter we use \n",
        "\n",
        "$nCm = \\frac{4!}{0!.4!}$"
      ],
      "metadata": {
        "id": "MO5lzl5YieJH"
      }
    },
    {
      "cell_type": "code",
      "source": [
        "math.factorial(4)"
      ],
      "metadata": {
        "id": "160SHJtviuJp",
        "outputId": "bc13945d-03a1-49b5-d729-912e7f8a6ec0",
        "colab": {
          "base_uri": "https://localhost:8080/"
        }
      },
      "execution_count": null,
      "outputs": [
        {
          "output_type": "execute_result",
          "data": {
            "text/plain": [
              "24"
            ]
          },
          "metadata": {},
          "execution_count": 6
        }
      ]
    },
    {
      "cell_type": "code",
      "source": [
        "from itertools import permutations\n",
        "print(list(permutations(possibleCard,4)))"
      ],
      "metadata": {
        "id": "VIYro9AOneET",
        "outputId": "a8e13ee2-0c2b-4663-ab1e-cc9d4f674ce5",
        "colab": {
          "base_uri": "https://localhost:8080/"
        }
      },
      "execution_count": null,
      "outputs": [
        {
          "output_type": "stream",
          "name": "stdout",
          "text": [
            "[('hearts', 'spades', 'diamonds', 'clubs'), ('hearts', 'spades', 'clubs', 'diamonds'), ('hearts', 'diamonds', 'spades', 'clubs'), ('hearts', 'diamonds', 'clubs', 'spades'), ('hearts', 'clubs', 'spades', 'diamonds'), ('hearts', 'clubs', 'diamonds', 'spades'), ('spades', 'hearts', 'diamonds', 'clubs'), ('spades', 'hearts', 'clubs', 'diamonds'), ('spades', 'diamonds', 'hearts', 'clubs'), ('spades', 'diamonds', 'clubs', 'hearts'), ('spades', 'clubs', 'hearts', 'diamonds'), ('spades', 'clubs', 'diamonds', 'hearts'), ('diamonds', 'hearts', 'spades', 'clubs'), ('diamonds', 'hearts', 'clubs', 'spades'), ('diamonds', 'spades', 'hearts', 'clubs'), ('diamonds', 'spades', 'clubs', 'hearts'), ('diamonds', 'clubs', 'hearts', 'spades'), ('diamonds', 'clubs', 'spades', 'hearts'), ('clubs', 'hearts', 'spades', 'diamonds'), ('clubs', 'hearts', 'diamonds', 'spades'), ('clubs', 'spades', 'hearts', 'diamonds'), ('clubs', 'spades', 'diamonds', 'hearts'), ('clubs', 'diamonds', 'hearts', 'spades'), ('clubs', 'diamonds', 'spades', 'hearts')]\n"
          ]
        }
      ]
    },
    {
      "cell_type": "markdown",
      "source": [
        "So, 24 possible outcome, if the order matter. I have also printed the list of all the possible outcome and it looked correct."
      ],
      "metadata": {
        "id": "YeqSTrXci5fq"
      }
    },
    {
      "cell_type": "code",
      "source": [
        "math.factorial(4)/(math.factorial(0)*math.factorial(4))"
      ],
      "metadata": {
        "id": "AG7dOtgojBfH",
        "outputId": "43a70894-42a7-40e3-ad09-e55b74b67560",
        "colab": {
          "base_uri": "https://localhost:8080/"
        }
      },
      "execution_count": null,
      "outputs": [
        {
          "output_type": "execute_result",
          "data": {
            "text/plain": [
              "1.0"
            ]
          },
          "metadata": {},
          "execution_count": 10
        }
      ]
    },
    {
      "cell_type": "markdown",
      "source": [
        "I think only one possible outcome if the order doesn't matter.Now lets print the list nad see what the single possible outcome is."
      ],
      "metadata": {
        "id": "sYUrNoQvjuty"
      }
    },
    {
      "cell_type": "code",
      "source": [
        "from itertools import combinations\n",
        "print(list(combinations(possibleCard,4)))"
      ],
      "metadata": {
        "id": "uN5wYVCvoDKR",
        "outputId": "c9b56b4f-236b-4cb1-f06d-cdf301fa46de",
        "colab": {
          "base_uri": "https://localhost:8080/"
        }
      },
      "execution_count": null,
      "outputs": [
        {
          "output_type": "stream",
          "name": "stdout",
          "text": [
            "[('hearts', 'spades', 'diamonds', 'clubs')]\n"
          ]
        }
      ]
    },
    {
      "cell_type": "markdown",
      "source": [
        "Now,"
      ],
      "metadata": {
        "id": "0A3c7tU_oYUo"
      }
    },
    {
      "cell_type": "markdown",
      "source": [
        "We can find the 5th term of polynomial \n",
        "$(x-3)^9$\n",
        "\n",
        "$$\n",
        "T{r+1} = nCrx^{n-r}y^r\n",
        "$$\n",
        "\n",
        "$$\n",
        "T{4+1} = 9C4x^{5}(-3)^4\n",
        "$$"
      ],
      "metadata": {
        "id": "h7enjho9j3Xu"
      }
    },
    {
      "cell_type": "code",
      "source": [
        "(math.factorial(9)/(math.factorial(5)*math.factorial(4)))*((-3)**4)"
      ],
      "metadata": {
        "id": "UjXR5hmfkCXp",
        "outputId": "d95cfb31-f6a7-4af3-dafb-12123e1b38b5",
        "colab": {
          "base_uri": "https://localhost:8080/"
        }
      },
      "execution_count": null,
      "outputs": [
        {
          "output_type": "execute_result",
          "data": {
            "text/plain": [
              "10206.0"
            ]
          },
          "metadata": {},
          "execution_count": 13
        }
      ]
    },
    {
      "cell_type": "markdown",
      "source": [
        "The fith term is $$10206x^5$$"
      ],
      "metadata": {
        "id": "IctxsCfOmy4s"
      }
    }
  ]
}