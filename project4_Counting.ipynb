{
  "nbformat": 4,
  "nbformat_minor": 0,
  "metadata": {
    "colab": {
      "name": "Untitled0.ipynb",
      "provenance": [],
      "include_colab_link": true
    },
    "kernelspec": {
      "name": "python3",
      "display_name": "Python 3"
    }
  },
  "cells": [
    {
      "cell_type": "markdown",
      "metadata": {
        "id": "view-in-github",
        "colab_type": "text"
      },
      "source": [
        "<a href=\"https://colab.research.google.com/github/SagarSitaula1/Discrete_math/blob/main/project4_Counting.ipynb\" target=\"_parent\"><img src=\"https://colab.research.google.com/assets/colab-badge.svg\" alt=\"Open In Colab\"/></a>"
      ]
    },
    {
      "cell_type": "markdown",
      "metadata": {
        "id": "YCJaepmmfKrS"
      },
      "source": [
        "# Project Part 4 : CPSMA 3133 Dr. Jacob's Discrete Mathematics \n",
        "\n",
        "## Counting\n",
        "\n",
        "### Sagar Sitaula and 267865\n",
        "\n",
        "\n"
      ]
    },
    {
      "cell_type": "markdown",
      "source": [
        "# Counting"
      ],
      "metadata": {
        "id": "kpj8TXndzcYB"
      }
    },
    {
      "cell_type": "code",
      "source": [
        "possibleCard = ['hearts','spades','diamonds','clubs']"
      ],
      "metadata": {
        "id": "1za-Pb5ozyNI"
      },
      "execution_count": 9,
      "outputs": []
    },
    {
      "cell_type": "markdown",
      "source": [
        "Since, I am using cards and there are four different types of symbol or shape to determine the card my posibilities in 10 sequences would be $4^{10}$.That means for every ten time I draw a card there will be four possibilities!\n",
        "\n",
        "$$ 4*4*4\\dots *4 = 4^{10} $$\n"
      ],
      "metadata": {
        "id": "Ef3cKMHozgJH"
      }
    },
    {
      "cell_type": "code",
      "metadata": {
        "id": "5U5T3Fld5X0S",
        "outputId": "f7f84343-49de-42ed-9863-6e0bd8ac9747",
        "colab": {
          "base_uri": "https://localhost:8080/"
        }
      },
      "source": [
        "4**10"
      ],
      "execution_count": 10,
      "outputs": [
        {
          "output_type": "execute_result",
          "data": {
            "text/plain": [
              "1048576"
            ]
          },
          "metadata": {},
          "execution_count": 10
        }
      ]
    },
    {
      "cell_type": "markdown",
      "source": [
        "If the order didnot matter our outcome might be different, So lets use a formula.If there are $n$ objects and $k$ slots but order does not matter, the number of ways to do this is\n",
        "\n",
        "$$\n",
        "\\binom{n+k-1}{k-1} = \\binom{n+k-1}{n}\n",
        "$$\n",
        "\n",
        "Since, there will be 10 objects it is just that there are only 4 categories that they can fall into."
      ],
      "metadata": {
        "id": "QJ4IVEZN2-bu"
      }
    },
    {
      "cell_type": "code",
      "source": [
        "import math\n",
        "\n",
        "math.factorial(13)/(math.factorial(10)*math.factorial(3))"
      ],
      "metadata": {
        "id": "HpTMnIUd4Xmz",
        "outputId": "7da7e803-3ffa-43e4-d016-49c8f22175ae",
        "colab": {
          "base_uri": "https://localhost:8080/"
        }
      },
      "execution_count": 11,
      "outputs": [
        {
          "output_type": "execute_result",
          "data": {
            "text/plain": [
              "286.0"
            ]
          },
          "metadata": {},
          "execution_count": 11
        }
      ]
    },
    {
      "cell_type": "markdown",
      "source": [
        "So, if the order is did not matter, there could be 286 numbe rof outcomes possible."
      ],
      "metadata": {
        "id": "RmU1HaO57GHG"
      }
    },
    {
      "cell_type": "code",
      "source": [
        "from itertools import combinations_with_replacement\n",
        "print(list(combinations_with_replacement(possibleCard,10)))"
      ],
      "metadata": {
        "id": "96QrZrfO5XEb",
        "outputId": "e152aaeb-47ea-495d-b288-b43acf2db9f2",
        "colab": {
          "base_uri": "https://localhost:8080/"
        }
      },
      "execution_count": 12,
      "outputs": [
        {
          "output_type": "stream",
          "name": "stdout",
          "text": [
            "[('hearts', 'hearts', 'hearts', 'hearts', 'hearts', 'hearts', 'hearts', 'hearts', 'hearts', 'hearts'), ('hearts', 'hearts', 'hearts', 'hearts', 'hearts', 'hearts', 'hearts', 'hearts', 'hearts', 'spades'), ('hearts', 'hearts', 'hearts', 'hearts', 'hearts', 'hearts', 'hearts', 'hearts', 'hearts', 'diamonds'), ('hearts', 'hearts', 'hearts', 'hearts', 'hearts', 'hearts', 'hearts', 'hearts', 'hearts', 'clubs'), ('hearts', 'hearts', 'hearts', 'hearts', 'hearts', 'hearts', 'hearts', 'hearts', 'spades', 'spades'), ('hearts', 'hearts', 'hearts', 'hearts', 'hearts', 'hearts', 'hearts', 'hearts', 'spades', 'diamonds'), ('hearts', 'hearts', 'hearts', 'hearts', 'hearts', 'hearts', 'hearts', 'hearts', 'spades', 'clubs'), ('hearts', 'hearts', 'hearts', 'hearts', 'hearts', 'hearts', 'hearts', 'hearts', 'diamonds', 'diamonds'), ('hearts', 'hearts', 'hearts', 'hearts', 'hearts', 'hearts', 'hearts', 'hearts', 'diamonds', 'clubs'), ('hearts', 'hearts', 'hearts', 'hearts', 'hearts', 'hearts', 'hearts', 'hearts', 'clubs', 'clubs'), ('hearts', 'hearts', 'hearts', 'hearts', 'hearts', 'hearts', 'hearts', 'spades', 'spades', 'spades'), ('hearts', 'hearts', 'hearts', 'hearts', 'hearts', 'hearts', 'hearts', 'spades', 'spades', 'diamonds'), ('hearts', 'hearts', 'hearts', 'hearts', 'hearts', 'hearts', 'hearts', 'spades', 'spades', 'clubs'), ('hearts', 'hearts', 'hearts', 'hearts', 'hearts', 'hearts', 'hearts', 'spades', 'diamonds', 'diamonds'), ('hearts', 'hearts', 'hearts', 'hearts', 'hearts', 'hearts', 'hearts', 'spades', 'diamonds', 'clubs'), ('hearts', 'hearts', 'hearts', 'hearts', 'hearts', 'hearts', 'hearts', 'spades', 'clubs', 'clubs'), ('hearts', 'hearts', 'hearts', 'hearts', 'hearts', 'hearts', 'hearts', 'diamonds', 'diamonds', 'diamonds'), ('hearts', 'hearts', 'hearts', 'hearts', 'hearts', 'hearts', 'hearts', 'diamonds', 'diamonds', 'clubs'), ('hearts', 'hearts', 'hearts', 'hearts', 'hearts', 'hearts', 'hearts', 'diamonds', 'clubs', 'clubs'), ('hearts', 'hearts', 'hearts', 'hearts', 'hearts', 'hearts', 'hearts', 'clubs', 'clubs', 'clubs'), ('hearts', 'hearts', 'hearts', 'hearts', 'hearts', 'hearts', 'spades', 'spades', 'spades', 'spades'), ('hearts', 'hearts', 'hearts', 'hearts', 'hearts', 'hearts', 'spades', 'spades', 'spades', 'diamonds'), ('hearts', 'hearts', 'hearts', 'hearts', 'hearts', 'hearts', 'spades', 'spades', 'spades', 'clubs'), ('hearts', 'hearts', 'hearts', 'hearts', 'hearts', 'hearts', 'spades', 'spades', 'diamonds', 'diamonds'), ('hearts', 'hearts', 'hearts', 'hearts', 'hearts', 'hearts', 'spades', 'spades', 'diamonds', 'clubs'), ('hearts', 'hearts', 'hearts', 'hearts', 'hearts', 'hearts', 'spades', 'spades', 'clubs', 'clubs'), ('hearts', 'hearts', 'hearts', 'hearts', 'hearts', 'hearts', 'spades', 'diamonds', 'diamonds', 'diamonds'), ('hearts', 'hearts', 'hearts', 'hearts', 'hearts', 'hearts', 'spades', 'diamonds', 'diamonds', 'clubs'), ('hearts', 'hearts', 'hearts', 'hearts', 'hearts', 'hearts', 'spades', 'diamonds', 'clubs', 'clubs'), ('hearts', 'hearts', 'hearts', 'hearts', 'hearts', 'hearts', 'spades', 'clubs', 'clubs', 'clubs'), ('hearts', 'hearts', 'hearts', 'hearts', 'hearts', 'hearts', 'diamonds', 'diamonds', 'diamonds', 'diamonds'), ('hearts', 'hearts', 'hearts', 'hearts', 'hearts', 'hearts', 'diamonds', 'diamonds', 'diamonds', 'clubs'), ('hearts', 'hearts', 'hearts', 'hearts', 'hearts', 'hearts', 'diamonds', 'diamonds', 'clubs', 'clubs'), ('hearts', 'hearts', 'hearts', 'hearts', 'hearts', 'hearts', 'diamonds', 'clubs', 'clubs', 'clubs'), ('hearts', 'hearts', 'hearts', 'hearts', 'hearts', 'hearts', 'clubs', 'clubs', 'clubs', 'clubs'), ('hearts', 'hearts', 'hearts', 'hearts', 'hearts', 'spades', 'spades', 'spades', 'spades', 'spades'), ('hearts', 'hearts', 'hearts', 'hearts', 'hearts', 'spades', 'spades', 'spades', 'spades', 'diamonds'), ('hearts', 'hearts', 'hearts', 'hearts', 'hearts', 'spades', 'spades', 'spades', 'spades', 'clubs'), ('hearts', 'hearts', 'hearts', 'hearts', 'hearts', 'spades', 'spades', 'spades', 'diamonds', 'diamonds'), ('hearts', 'hearts', 'hearts', 'hearts', 'hearts', 'spades', 'spades', 'spades', 'diamonds', 'clubs'), ('hearts', 'hearts', 'hearts', 'hearts', 'hearts', 'spades', 'spades', 'spades', 'clubs', 'clubs'), ('hearts', 'hearts', 'hearts', 'hearts', 'hearts', 'spades', 'spades', 'diamonds', 'diamonds', 'diamonds'), ('hearts', 'hearts', 'hearts', 'hearts', 'hearts', 'spades', 'spades', 'diamonds', 'diamonds', 'clubs'), ('hearts', 'hearts', 'hearts', 'hearts', 'hearts', 'spades', 'spades', 'diamonds', 'clubs', 'clubs'), ('hearts', 'hearts', 'hearts', 'hearts', 'hearts', 'spades', 'spades', 'clubs', 'clubs', 'clubs'), ('hearts', 'hearts', 'hearts', 'hearts', 'hearts', 'spades', 'diamonds', 'diamonds', 'diamonds', 'diamonds'), ('hearts', 'hearts', 'hearts', 'hearts', 'hearts', 'spades', 'diamonds', 'diamonds', 'diamonds', 'clubs'), ('hearts', 'hearts', 'hearts', 'hearts', 'hearts', 'spades', 'diamonds', 'diamonds', 'clubs', 'clubs'), ('hearts', 'hearts', 'hearts', 'hearts', 'hearts', 'spades', 'diamonds', 'clubs', 'clubs', 'clubs'), ('hearts', 'hearts', 'hearts', 'hearts', 'hearts', 'spades', 'clubs', 'clubs', 'clubs', 'clubs'), ('hearts', 'hearts', 'hearts', 'hearts', 'hearts', 'diamonds', 'diamonds', 'diamonds', 'diamonds', 'diamonds'), ('hearts', 'hearts', 'hearts', 'hearts', 'hearts', 'diamonds', 'diamonds', 'diamonds', 'diamonds', 'clubs'), ('hearts', 'hearts', 'hearts', 'hearts', 'hearts', 'diamonds', 'diamonds', 'diamonds', 'clubs', 'clubs'), ('hearts', 'hearts', 'hearts', 'hearts', 'hearts', 'diamonds', 'diamonds', 'clubs', 'clubs', 'clubs'), ('hearts', 'hearts', 'hearts', 'hearts', 'hearts', 'diamonds', 'clubs', 'clubs', 'clubs', 'clubs'), ('hearts', 'hearts', 'hearts', 'hearts', 'hearts', 'clubs', 'clubs', 'clubs', 'clubs', 'clubs'), ('hearts', 'hearts', 'hearts', 'hearts', 'spades', 'spades', 'spades', 'spades', 'spades', 'spades'), ('hearts', 'hearts', 'hearts', 'hearts', 'spades', 'spades', 'spades', 'spades', 'spades', 'diamonds'), ('hearts', 'hearts', 'hearts', 'hearts', 'spades', 'spades', 'spades', 'spades', 'spades', 'clubs'), ('hearts', 'hearts', 'hearts', 'hearts', 'spades', 'spades', 'spades', 'spades', 'diamonds', 'diamonds'), ('hearts', 'hearts', 'hearts', 'hearts', 'spades', 'spades', 'spades', 'spades', 'diamonds', 'clubs'), ('hearts', 'hearts', 'hearts', 'hearts', 'spades', 'spades', 'spades', 'spades', 'clubs', 'clubs'), ('hearts', 'hearts', 'hearts', 'hearts', 'spades', 'spades', 'spades', 'diamonds', 'diamonds', 'diamonds'), ('hearts', 'hearts', 'hearts', 'hearts', 'spades', 'spades', 'spades', 'diamonds', 'diamonds', 'clubs'), ('hearts', 'hearts', 'hearts', 'hearts', 'spades', 'spades', 'spades', 'diamonds', 'clubs', 'clubs'), ('hearts', 'hearts', 'hearts', 'hearts', 'spades', 'spades', 'spades', 'clubs', 'clubs', 'clubs'), ('hearts', 'hearts', 'hearts', 'hearts', 'spades', 'spades', 'diamonds', 'diamonds', 'diamonds', 'diamonds'), ('hearts', 'hearts', 'hearts', 'hearts', 'spades', 'spades', 'diamonds', 'diamonds', 'diamonds', 'clubs'), ('hearts', 'hearts', 'hearts', 'hearts', 'spades', 'spades', 'diamonds', 'diamonds', 'clubs', 'clubs'), ('hearts', 'hearts', 'hearts', 'hearts', 'spades', 'spades', 'diamonds', 'clubs', 'clubs', 'clubs'), ('hearts', 'hearts', 'hearts', 'hearts', 'spades', 'spades', 'clubs', 'clubs', 'clubs', 'clubs'), ('hearts', 'hearts', 'hearts', 'hearts', 'spades', 'diamonds', 'diamonds', 'diamonds', 'diamonds', 'diamonds'), ('hearts', 'hearts', 'hearts', 'hearts', 'spades', 'diamonds', 'diamonds', 'diamonds', 'diamonds', 'clubs'), ('hearts', 'hearts', 'hearts', 'hearts', 'spades', 'diamonds', 'diamonds', 'diamonds', 'clubs', 'clubs'), ('hearts', 'hearts', 'hearts', 'hearts', 'spades', 'diamonds', 'diamonds', 'clubs', 'clubs', 'clubs'), ('hearts', 'hearts', 'hearts', 'hearts', 'spades', 'diamonds', 'clubs', 'clubs', 'clubs', 'clubs'), ('hearts', 'hearts', 'hearts', 'hearts', 'spades', 'clubs', 'clubs', 'clubs', 'clubs', 'clubs'), ('hearts', 'hearts', 'hearts', 'hearts', 'diamonds', 'diamonds', 'diamonds', 'diamonds', 'diamonds', 'diamonds'), ('hearts', 'hearts', 'hearts', 'hearts', 'diamonds', 'diamonds', 'diamonds', 'diamonds', 'diamonds', 'clubs'), ('hearts', 'hearts', 'hearts', 'hearts', 'diamonds', 'diamonds', 'diamonds', 'diamonds', 'clubs', 'clubs'), ('hearts', 'hearts', 'hearts', 'hearts', 'diamonds', 'diamonds', 'diamonds', 'clubs', 'clubs', 'clubs'), ('hearts', 'hearts', 'hearts', 'hearts', 'diamonds', 'diamonds', 'clubs', 'clubs', 'clubs', 'clubs'), ('hearts', 'hearts', 'hearts', 'hearts', 'diamonds', 'clubs', 'clubs', 'clubs', 'clubs', 'clubs'), ('hearts', 'hearts', 'hearts', 'hearts', 'clubs', 'clubs', 'clubs', 'clubs', 'clubs', 'clubs'), ('hearts', 'hearts', 'hearts', 'spades', 'spades', 'spades', 'spades', 'spades', 'spades', 'spades'), ('hearts', 'hearts', 'hearts', 'spades', 'spades', 'spades', 'spades', 'spades', 'spades', 'diamonds'), ('hearts', 'hearts', 'hearts', 'spades', 'spades', 'spades', 'spades', 'spades', 'spades', 'clubs'), ('hearts', 'hearts', 'hearts', 'spades', 'spades', 'spades', 'spades', 'spades', 'diamonds', 'diamonds'), ('hearts', 'hearts', 'hearts', 'spades', 'spades', 'spades', 'spades', 'spades', 'diamonds', 'clubs'), ('hearts', 'hearts', 'hearts', 'spades', 'spades', 'spades', 'spades', 'spades', 'clubs', 'clubs'), ('hearts', 'hearts', 'hearts', 'spades', 'spades', 'spades', 'spades', 'diamonds', 'diamonds', 'diamonds'), ('hearts', 'hearts', 'hearts', 'spades', 'spades', 'spades', 'spades', 'diamonds', 'diamonds', 'clubs'), ('hearts', 'hearts', 'hearts', 'spades', 'spades', 'spades', 'spades', 'diamonds', 'clubs', 'clubs'), ('hearts', 'hearts', 'hearts', 'spades', 'spades', 'spades', 'spades', 'clubs', 'clubs', 'clubs'), ('hearts', 'hearts', 'hearts', 'spades', 'spades', 'spades', 'diamonds', 'diamonds', 'diamonds', 'diamonds'), ('hearts', 'hearts', 'hearts', 'spades', 'spades', 'spades', 'diamonds', 'diamonds', 'diamonds', 'clubs'), ('hearts', 'hearts', 'hearts', 'spades', 'spades', 'spades', 'diamonds', 'diamonds', 'clubs', 'clubs'), ('hearts', 'hearts', 'hearts', 'spades', 'spades', 'spades', 'diamonds', 'clubs', 'clubs', 'clubs'), ('hearts', 'hearts', 'hearts', 'spades', 'spades', 'spades', 'clubs', 'clubs', 'clubs', 'clubs'), ('hearts', 'hearts', 'hearts', 'spades', 'spades', 'diamonds', 'diamonds', 'diamonds', 'diamonds', 'diamonds'), ('hearts', 'hearts', 'hearts', 'spades', 'spades', 'diamonds', 'diamonds', 'diamonds', 'diamonds', 'clubs'), ('hearts', 'hearts', 'hearts', 'spades', 'spades', 'diamonds', 'diamonds', 'diamonds', 'clubs', 'clubs'), ('hearts', 'hearts', 'hearts', 'spades', 'spades', 'diamonds', 'diamonds', 'clubs', 'clubs', 'clubs'), ('hearts', 'hearts', 'hearts', 'spades', 'spades', 'diamonds', 'clubs', 'clubs', 'clubs', 'clubs'), ('hearts', 'hearts', 'hearts', 'spades', 'spades', 'clubs', 'clubs', 'clubs', 'clubs', 'clubs'), ('hearts', 'hearts', 'hearts', 'spades', 'diamonds', 'diamonds', 'diamonds', 'diamonds', 'diamonds', 'diamonds'), ('hearts', 'hearts', 'hearts', 'spades', 'diamonds', 'diamonds', 'diamonds', 'diamonds', 'diamonds', 'clubs'), ('hearts', 'hearts', 'hearts', 'spades', 'diamonds', 'diamonds', 'diamonds', 'diamonds', 'clubs', 'clubs'), ('hearts', 'hearts', 'hearts', 'spades', 'diamonds', 'diamonds', 'diamonds', 'clubs', 'clubs', 'clubs'), ('hearts', 'hearts', 'hearts', 'spades', 'diamonds', 'diamonds', 'clubs', 'clubs', 'clubs', 'clubs'), ('hearts', 'hearts', 'hearts', 'spades', 'diamonds', 'clubs', 'clubs', 'clubs', 'clubs', 'clubs'), ('hearts', 'hearts', 'hearts', 'spades', 'clubs', 'clubs', 'clubs', 'clubs', 'clubs', 'clubs'), ('hearts', 'hearts', 'hearts', 'diamonds', 'diamonds', 'diamonds', 'diamonds', 'diamonds', 'diamonds', 'diamonds'), ('hearts', 'hearts', 'hearts', 'diamonds', 'diamonds', 'diamonds', 'diamonds', 'diamonds', 'diamonds', 'clubs'), ('hearts', 'hearts', 'hearts', 'diamonds', 'diamonds', 'diamonds', 'diamonds', 'diamonds', 'clubs', 'clubs'), ('hearts', 'hearts', 'hearts', 'diamonds', 'diamonds', 'diamonds', 'diamonds', 'clubs', 'clubs', 'clubs'), ('hearts', 'hearts', 'hearts', 'diamonds', 'diamonds', 'diamonds', 'clubs', 'clubs', 'clubs', 'clubs'), ('hearts', 'hearts', 'hearts', 'diamonds', 'diamonds', 'clubs', 'clubs', 'clubs', 'clubs', 'clubs'), ('hearts', 'hearts', 'hearts', 'diamonds', 'clubs', 'clubs', 'clubs', 'clubs', 'clubs', 'clubs'), ('hearts', 'hearts', 'hearts', 'clubs', 'clubs', 'clubs', 'clubs', 'clubs', 'clubs', 'clubs'), ('hearts', 'hearts', 'spades', 'spades', 'spades', 'spades', 'spades', 'spades', 'spades', 'spades'), ('hearts', 'hearts', 'spades', 'spades', 'spades', 'spades', 'spades', 'spades', 'spades', 'diamonds'), ('hearts', 'hearts', 'spades', 'spades', 'spades', 'spades', 'spades', 'spades', 'spades', 'clubs'), ('hearts', 'hearts', 'spades', 'spades', 'spades', 'spades', 'spades', 'spades', 'diamonds', 'diamonds'), ('hearts', 'hearts', 'spades', 'spades', 'spades', 'spades', 'spades', 'spades', 'diamonds', 'clubs'), ('hearts', 'hearts', 'spades', 'spades', 'spades', 'spades', 'spades', 'spades', 'clubs', 'clubs'), ('hearts', 'hearts', 'spades', 'spades', 'spades', 'spades', 'spades', 'diamonds', 'diamonds', 'diamonds'), ('hearts', 'hearts', 'spades', 'spades', 'spades', 'spades', 'spades', 'diamonds', 'diamonds', 'clubs'), ('hearts', 'hearts', 'spades', 'spades', 'spades', 'spades', 'spades', 'diamonds', 'clubs', 'clubs'), ('hearts', 'hearts', 'spades', 'spades', 'spades', 'spades', 'spades', 'clubs', 'clubs', 'clubs'), ('hearts', 'hearts', 'spades', 'spades', 'spades', 'spades', 'diamonds', 'diamonds', 'diamonds', 'diamonds'), ('hearts', 'hearts', 'spades', 'spades', 'spades', 'spades', 'diamonds', 'diamonds', 'diamonds', 'clubs'), ('hearts', 'hearts', 'spades', 'spades', 'spades', 'spades', 'diamonds', 'diamonds', 'clubs', 'clubs'), ('hearts', 'hearts', 'spades', 'spades', 'spades', 'spades', 'diamonds', 'clubs', 'clubs', 'clubs'), ('hearts', 'hearts', 'spades', 'spades', 'spades', 'spades', 'clubs', 'clubs', 'clubs', 'clubs'), ('hearts', 'hearts', 'spades', 'spades', 'spades', 'diamonds', 'diamonds', 'diamonds', 'diamonds', 'diamonds'), ('hearts', 'hearts', 'spades', 'spades', 'spades', 'diamonds', 'diamonds', 'diamonds', 'diamonds', 'clubs'), ('hearts', 'hearts', 'spades', 'spades', 'spades', 'diamonds', 'diamonds', 'diamonds', 'clubs', 'clubs'), ('hearts', 'hearts', 'spades', 'spades', 'spades', 'diamonds', 'diamonds', 'clubs', 'clubs', 'clubs'), ('hearts', 'hearts', 'spades', 'spades', 'spades', 'diamonds', 'clubs', 'clubs', 'clubs', 'clubs'), ('hearts', 'hearts', 'spades', 'spades', 'spades', 'clubs', 'clubs', 'clubs', 'clubs', 'clubs'), ('hearts', 'hearts', 'spades', 'spades', 'diamonds', 'diamonds', 'diamonds', 'diamonds', 'diamonds', 'diamonds'), ('hearts', 'hearts', 'spades', 'spades', 'diamonds', 'diamonds', 'diamonds', 'diamonds', 'diamonds', 'clubs'), ('hearts', 'hearts', 'spades', 'spades', 'diamonds', 'diamonds', 'diamonds', 'diamonds', 'clubs', 'clubs'), ('hearts', 'hearts', 'spades', 'spades', 'diamonds', 'diamonds', 'diamonds', 'clubs', 'clubs', 'clubs'), ('hearts', 'hearts', 'spades', 'spades', 'diamonds', 'diamonds', 'clubs', 'clubs', 'clubs', 'clubs'), ('hearts', 'hearts', 'spades', 'spades', 'diamonds', 'clubs', 'clubs', 'clubs', 'clubs', 'clubs'), ('hearts', 'hearts', 'spades', 'spades', 'clubs', 'clubs', 'clubs', 'clubs', 'clubs', 'clubs'), ('hearts', 'hearts', 'spades', 'diamonds', 'diamonds', 'diamonds', 'diamonds', 'diamonds', 'diamonds', 'diamonds'), ('hearts', 'hearts', 'spades', 'diamonds', 'diamonds', 'diamonds', 'diamonds', 'diamonds', 'diamonds', 'clubs'), ('hearts', 'hearts', 'spades', 'diamonds', 'diamonds', 'diamonds', 'diamonds', 'diamonds', 'clubs', 'clubs'), ('hearts', 'hearts', 'spades', 'diamonds', 'diamonds', 'diamonds', 'diamonds', 'clubs', 'clubs', 'clubs'), ('hearts', 'hearts', 'spades', 'diamonds', 'diamonds', 'diamonds', 'clubs', 'clubs', 'clubs', 'clubs'), ('hearts', 'hearts', 'spades', 'diamonds', 'diamonds', 'clubs', 'clubs', 'clubs', 'clubs', 'clubs'), ('hearts', 'hearts', 'spades', 'diamonds', 'clubs', 'clubs', 'clubs', 'clubs', 'clubs', 'clubs'), ('hearts', 'hearts', 'spades', 'clubs', 'clubs', 'clubs', 'clubs', 'clubs', 'clubs', 'clubs'), ('hearts', 'hearts', 'diamonds', 'diamonds', 'diamonds', 'diamonds', 'diamonds', 'diamonds', 'diamonds', 'diamonds'), ('hearts', 'hearts', 'diamonds', 'diamonds', 'diamonds', 'diamonds', 'diamonds', 'diamonds', 'diamonds', 'clubs'), ('hearts', 'hearts', 'diamonds', 'diamonds', 'diamonds', 'diamonds', 'diamonds', 'diamonds', 'clubs', 'clubs'), ('hearts', 'hearts', 'diamonds', 'diamonds', 'diamonds', 'diamonds', 'diamonds', 'clubs', 'clubs', 'clubs'), ('hearts', 'hearts', 'diamonds', 'diamonds', 'diamonds', 'diamonds', 'clubs', 'clubs', 'clubs', 'clubs'), ('hearts', 'hearts', 'diamonds', 'diamonds', 'diamonds', 'clubs', 'clubs', 'clubs', 'clubs', 'clubs'), ('hearts', 'hearts', 'diamonds', 'diamonds', 'clubs', 'clubs', 'clubs', 'clubs', 'clubs', 'clubs'), ('hearts', 'hearts', 'diamonds', 'clubs', 'clubs', 'clubs', 'clubs', 'clubs', 'clubs', 'clubs'), ('hearts', 'hearts', 'clubs', 'clubs', 'clubs', 'clubs', 'clubs', 'clubs', 'clubs', 'clubs'), ('hearts', 'spades', 'spades', 'spades', 'spades', 'spades', 'spades', 'spades', 'spades', 'spades'), ('hearts', 'spades', 'spades', 'spades', 'spades', 'spades', 'spades', 'spades', 'spades', 'diamonds'), ('hearts', 'spades', 'spades', 'spades', 'spades', 'spades', 'spades', 'spades', 'spades', 'clubs'), ('hearts', 'spades', 'spades', 'spades', 'spades', 'spades', 'spades', 'spades', 'diamonds', 'diamonds'), ('hearts', 'spades', 'spades', 'spades', 'spades', 'spades', 'spades', 'spades', 'diamonds', 'clubs'), ('hearts', 'spades', 'spades', 'spades', 'spades', 'spades', 'spades', 'spades', 'clubs', 'clubs'), ('hearts', 'spades', 'spades', 'spades', 'spades', 'spades', 'spades', 'diamonds', 'diamonds', 'diamonds'), ('hearts', 'spades', 'spades', 'spades', 'spades', 'spades', 'spades', 'diamonds', 'diamonds', 'clubs'), ('hearts', 'spades', 'spades', 'spades', 'spades', 'spades', 'spades', 'diamonds', 'clubs', 'clubs'), ('hearts', 'spades', 'spades', 'spades', 'spades', 'spades', 'spades', 'clubs', 'clubs', 'clubs'), ('hearts', 'spades', 'spades', 'spades', 'spades', 'spades', 'diamonds', 'diamonds', 'diamonds', 'diamonds'), ('hearts', 'spades', 'spades', 'spades', 'spades', 'spades', 'diamonds', 'diamonds', 'diamonds', 'clubs'), ('hearts', 'spades', 'spades', 'spades', 'spades', 'spades', 'diamonds', 'diamonds', 'clubs', 'clubs'), ('hearts', 'spades', 'spades', 'spades', 'spades', 'spades', 'diamonds', 'clubs', 'clubs', 'clubs'), ('hearts', 'spades', 'spades', 'spades', 'spades', 'spades', 'clubs', 'clubs', 'clubs', 'clubs'), ('hearts', 'spades', 'spades', 'spades', 'spades', 'diamonds', 'diamonds', 'diamonds', 'diamonds', 'diamonds'), ('hearts', 'spades', 'spades', 'spades', 'spades', 'diamonds', 'diamonds', 'diamonds', 'diamonds', 'clubs'), ('hearts', 'spades', 'spades', 'spades', 'spades', 'diamonds', 'diamonds', 'diamonds', 'clubs', 'clubs'), ('hearts', 'spades', 'spades', 'spades', 'spades', 'diamonds', 'diamonds', 'clubs', 'clubs', 'clubs'), ('hearts', 'spades', 'spades', 'spades', 'spades', 'diamonds', 'clubs', 'clubs', 'clubs', 'clubs'), ('hearts', 'spades', 'spades', 'spades', 'spades', 'clubs', 'clubs', 'clubs', 'clubs', 'clubs'), ('hearts', 'spades', 'spades', 'spades', 'diamonds', 'diamonds', 'diamonds', 'diamonds', 'diamonds', 'diamonds'), ('hearts', 'spades', 'spades', 'spades', 'diamonds', 'diamonds', 'diamonds', 'diamonds', 'diamonds', 'clubs'), ('hearts', 'spades', 'spades', 'spades', 'diamonds', 'diamonds', 'diamonds', 'diamonds', 'clubs', 'clubs'), ('hearts', 'spades', 'spades', 'spades', 'diamonds', 'diamonds', 'diamonds', 'clubs', 'clubs', 'clubs'), ('hearts', 'spades', 'spades', 'spades', 'diamonds', 'diamonds', 'clubs', 'clubs', 'clubs', 'clubs'), ('hearts', 'spades', 'spades', 'spades', 'diamonds', 'clubs', 'clubs', 'clubs', 'clubs', 'clubs'), ('hearts', 'spades', 'spades', 'spades', 'clubs', 'clubs', 'clubs', 'clubs', 'clubs', 'clubs'), ('hearts', 'spades', 'spades', 'diamonds', 'diamonds', 'diamonds', 'diamonds', 'diamonds', 'diamonds', 'diamonds'), ('hearts', 'spades', 'spades', 'diamonds', 'diamonds', 'diamonds', 'diamonds', 'diamonds', 'diamonds', 'clubs'), ('hearts', 'spades', 'spades', 'diamonds', 'diamonds', 'diamonds', 'diamonds', 'diamonds', 'clubs', 'clubs'), ('hearts', 'spades', 'spades', 'diamonds', 'diamonds', 'diamonds', 'diamonds', 'clubs', 'clubs', 'clubs'), ('hearts', 'spades', 'spades', 'diamonds', 'diamonds', 'diamonds', 'clubs', 'clubs', 'clubs', 'clubs'), ('hearts', 'spades', 'spades', 'diamonds', 'diamonds', 'clubs', 'clubs', 'clubs', 'clubs', 'clubs'), ('hearts', 'spades', 'spades', 'diamonds', 'clubs', 'clubs', 'clubs', 'clubs', 'clubs', 'clubs'), ('hearts', 'spades', 'spades', 'clubs', 'clubs', 'clubs', 'clubs', 'clubs', 'clubs', 'clubs'), ('hearts', 'spades', 'diamonds', 'diamonds', 'diamonds', 'diamonds', 'diamonds', 'diamonds', 'diamonds', 'diamonds'), ('hearts', 'spades', 'diamonds', 'diamonds', 'diamonds', 'diamonds', 'diamonds', 'diamonds', 'diamonds', 'clubs'), ('hearts', 'spades', 'diamonds', 'diamonds', 'diamonds', 'diamonds', 'diamonds', 'diamonds', 'clubs', 'clubs'), ('hearts', 'spades', 'diamonds', 'diamonds', 'diamonds', 'diamonds', 'diamonds', 'clubs', 'clubs', 'clubs'), ('hearts', 'spades', 'diamonds', 'diamonds', 'diamonds', 'diamonds', 'clubs', 'clubs', 'clubs', 'clubs'), ('hearts', 'spades', 'diamonds', 'diamonds', 'diamonds', 'clubs', 'clubs', 'clubs', 'clubs', 'clubs'), ('hearts', 'spades', 'diamonds', 'diamonds', 'clubs', 'clubs', 'clubs', 'clubs', 'clubs', 'clubs'), ('hearts', 'spades', 'diamonds', 'clubs', 'clubs', 'clubs', 'clubs', 'clubs', 'clubs', 'clubs'), ('hearts', 'spades', 'clubs', 'clubs', 'clubs', 'clubs', 'clubs', 'clubs', 'clubs', 'clubs'), ('hearts', 'diamonds', 'diamonds', 'diamonds', 'diamonds', 'diamonds', 'diamonds', 'diamonds', 'diamonds', 'diamonds'), ('hearts', 'diamonds', 'diamonds', 'diamonds', 'diamonds', 'diamonds', 'diamonds', 'diamonds', 'diamonds', 'clubs'), ('hearts', 'diamonds', 'diamonds', 'diamonds', 'diamonds', 'diamonds', 'diamonds', 'diamonds', 'clubs', 'clubs'), ('hearts', 'diamonds', 'diamonds', 'diamonds', 'diamonds', 'diamonds', 'diamonds', 'clubs', 'clubs', 'clubs'), ('hearts', 'diamonds', 'diamonds', 'diamonds', 'diamonds', 'diamonds', 'clubs', 'clubs', 'clubs', 'clubs'), ('hearts', 'diamonds', 'diamonds', 'diamonds', 'diamonds', 'clubs', 'clubs', 'clubs', 'clubs', 'clubs'), ('hearts', 'diamonds', 'diamonds', 'diamonds', 'clubs', 'clubs', 'clubs', 'clubs', 'clubs', 'clubs'), ('hearts', 'diamonds', 'diamonds', 'clubs', 'clubs', 'clubs', 'clubs', 'clubs', 'clubs', 'clubs'), ('hearts', 'diamonds', 'clubs', 'clubs', 'clubs', 'clubs', 'clubs', 'clubs', 'clubs', 'clubs'), ('hearts', 'clubs', 'clubs', 'clubs', 'clubs', 'clubs', 'clubs', 'clubs', 'clubs', 'clubs'), ('spades', 'spades', 'spades', 'spades', 'spades', 'spades', 'spades', 'spades', 'spades', 'spades'), ('spades', 'spades', 'spades', 'spades', 'spades', 'spades', 'spades', 'spades', 'spades', 'diamonds'), ('spades', 'spades', 'spades', 'spades', 'spades', 'spades', 'spades', 'spades', 'spades', 'clubs'), ('spades', 'spades', 'spades', 'spades', 'spades', 'spades', 'spades', 'spades', 'diamonds', 'diamonds'), ('spades', 'spades', 'spades', 'spades', 'spades', 'spades', 'spades', 'spades', 'diamonds', 'clubs'), ('spades', 'spades', 'spades', 'spades', 'spades', 'spades', 'spades', 'spades', 'clubs', 'clubs'), ('spades', 'spades', 'spades', 'spades', 'spades', 'spades', 'spades', 'diamonds', 'diamonds', 'diamonds'), ('spades', 'spades', 'spades', 'spades', 'spades', 'spades', 'spades', 'diamonds', 'diamonds', 'clubs'), ('spades', 'spades', 'spades', 'spades', 'spades', 'spades', 'spades', 'diamonds', 'clubs', 'clubs'), ('spades', 'spades', 'spades', 'spades', 'spades', 'spades', 'spades', 'clubs', 'clubs', 'clubs'), ('spades', 'spades', 'spades', 'spades', 'spades', 'spades', 'diamonds', 'diamonds', 'diamonds', 'diamonds'), ('spades', 'spades', 'spades', 'spades', 'spades', 'spades', 'diamonds', 'diamonds', 'diamonds', 'clubs'), ('spades', 'spades', 'spades', 'spades', 'spades', 'spades', 'diamonds', 'diamonds', 'clubs', 'clubs'), ('spades', 'spades', 'spades', 'spades', 'spades', 'spades', 'diamonds', 'clubs', 'clubs', 'clubs'), ('spades', 'spades', 'spades', 'spades', 'spades', 'spades', 'clubs', 'clubs', 'clubs', 'clubs'), ('spades', 'spades', 'spades', 'spades', 'spades', 'diamonds', 'diamonds', 'diamonds', 'diamonds', 'diamonds'), ('spades', 'spades', 'spades', 'spades', 'spades', 'diamonds', 'diamonds', 'diamonds', 'diamonds', 'clubs'), ('spades', 'spades', 'spades', 'spades', 'spades', 'diamonds', 'diamonds', 'diamonds', 'clubs', 'clubs'), ('spades', 'spades', 'spades', 'spades', 'spades', 'diamonds', 'diamonds', 'clubs', 'clubs', 'clubs'), ('spades', 'spades', 'spades', 'spades', 'spades', 'diamonds', 'clubs', 'clubs', 'clubs', 'clubs'), ('spades', 'spades', 'spades', 'spades', 'spades', 'clubs', 'clubs', 'clubs', 'clubs', 'clubs'), ('spades', 'spades', 'spades', 'spades', 'diamonds', 'diamonds', 'diamonds', 'diamonds', 'diamonds', 'diamonds'), ('spades', 'spades', 'spades', 'spades', 'diamonds', 'diamonds', 'diamonds', 'diamonds', 'diamonds', 'clubs'), ('spades', 'spades', 'spades', 'spades', 'diamonds', 'diamonds', 'diamonds', 'diamonds', 'clubs', 'clubs'), ('spades', 'spades', 'spades', 'spades', 'diamonds', 'diamonds', 'diamonds', 'clubs', 'clubs', 'clubs'), ('spades', 'spades', 'spades', 'spades', 'diamonds', 'diamonds', 'clubs', 'clubs', 'clubs', 'clubs'), ('spades', 'spades', 'spades', 'spades', 'diamonds', 'clubs', 'clubs', 'clubs', 'clubs', 'clubs'), ('spades', 'spades', 'spades', 'spades', 'clubs', 'clubs', 'clubs', 'clubs', 'clubs', 'clubs'), ('spades', 'spades', 'spades', 'diamonds', 'diamonds', 'diamonds', 'diamonds', 'diamonds', 'diamonds', 'diamonds'), ('spades', 'spades', 'spades', 'diamonds', 'diamonds', 'diamonds', 'diamonds', 'diamonds', 'diamonds', 'clubs'), ('spades', 'spades', 'spades', 'diamonds', 'diamonds', 'diamonds', 'diamonds', 'diamonds', 'clubs', 'clubs'), ('spades', 'spades', 'spades', 'diamonds', 'diamonds', 'diamonds', 'diamonds', 'clubs', 'clubs', 'clubs'), ('spades', 'spades', 'spades', 'diamonds', 'diamonds', 'diamonds', 'clubs', 'clubs', 'clubs', 'clubs'), ('spades', 'spades', 'spades', 'diamonds', 'diamonds', 'clubs', 'clubs', 'clubs', 'clubs', 'clubs'), ('spades', 'spades', 'spades', 'diamonds', 'clubs', 'clubs', 'clubs', 'clubs', 'clubs', 'clubs'), ('spades', 'spades', 'spades', 'clubs', 'clubs', 'clubs', 'clubs', 'clubs', 'clubs', 'clubs'), ('spades', 'spades', 'diamonds', 'diamonds', 'diamonds', 'diamonds', 'diamonds', 'diamonds', 'diamonds', 'diamonds'), ('spades', 'spades', 'diamonds', 'diamonds', 'diamonds', 'diamonds', 'diamonds', 'diamonds', 'diamonds', 'clubs'), ('spades', 'spades', 'diamonds', 'diamonds', 'diamonds', 'diamonds', 'diamonds', 'diamonds', 'clubs', 'clubs'), ('spades', 'spades', 'diamonds', 'diamonds', 'diamonds', 'diamonds', 'diamonds', 'clubs', 'clubs', 'clubs'), ('spades', 'spades', 'diamonds', 'diamonds', 'diamonds', 'diamonds', 'clubs', 'clubs', 'clubs', 'clubs'), ('spades', 'spades', 'diamonds', 'diamonds', 'diamonds', 'clubs', 'clubs', 'clubs', 'clubs', 'clubs'), ('spades', 'spades', 'diamonds', 'diamonds', 'clubs', 'clubs', 'clubs', 'clubs', 'clubs', 'clubs'), ('spades', 'spades', 'diamonds', 'clubs', 'clubs', 'clubs', 'clubs', 'clubs', 'clubs', 'clubs'), ('spades', 'spades', 'clubs', 'clubs', 'clubs', 'clubs', 'clubs', 'clubs', 'clubs', 'clubs'), ('spades', 'diamonds', 'diamonds', 'diamonds', 'diamonds', 'diamonds', 'diamonds', 'diamonds', 'diamonds', 'diamonds'), ('spades', 'diamonds', 'diamonds', 'diamonds', 'diamonds', 'diamonds', 'diamonds', 'diamonds', 'diamonds', 'clubs'), ('spades', 'diamonds', 'diamonds', 'diamonds', 'diamonds', 'diamonds', 'diamonds', 'diamonds', 'clubs', 'clubs'), ('spades', 'diamonds', 'diamonds', 'diamonds', 'diamonds', 'diamonds', 'diamonds', 'clubs', 'clubs', 'clubs'), ('spades', 'diamonds', 'diamonds', 'diamonds', 'diamonds', 'diamonds', 'clubs', 'clubs', 'clubs', 'clubs'), ('spades', 'diamonds', 'diamonds', 'diamonds', 'diamonds', 'clubs', 'clubs', 'clubs', 'clubs', 'clubs'), ('spades', 'diamonds', 'diamonds', 'diamonds', 'clubs', 'clubs', 'clubs', 'clubs', 'clubs', 'clubs'), ('spades', 'diamonds', 'diamonds', 'clubs', 'clubs', 'clubs', 'clubs', 'clubs', 'clubs', 'clubs'), ('spades', 'diamonds', 'clubs', 'clubs', 'clubs', 'clubs', 'clubs', 'clubs', 'clubs', 'clubs'), ('spades', 'clubs', 'clubs', 'clubs', 'clubs', 'clubs', 'clubs', 'clubs', 'clubs', 'clubs'), ('diamonds', 'diamonds', 'diamonds', 'diamonds', 'diamonds', 'diamonds', 'diamonds', 'diamonds', 'diamonds', 'diamonds'), ('diamonds', 'diamonds', 'diamonds', 'diamonds', 'diamonds', 'diamonds', 'diamonds', 'diamonds', 'diamonds', 'clubs'), ('diamonds', 'diamonds', 'diamonds', 'diamonds', 'diamonds', 'diamonds', 'diamonds', 'diamonds', 'clubs', 'clubs'), ('diamonds', 'diamonds', 'diamonds', 'diamonds', 'diamonds', 'diamonds', 'diamonds', 'clubs', 'clubs', 'clubs'), ('diamonds', 'diamonds', 'diamonds', 'diamonds', 'diamonds', 'diamonds', 'clubs', 'clubs', 'clubs', 'clubs'), ('diamonds', 'diamonds', 'diamonds', 'diamonds', 'diamonds', 'clubs', 'clubs', 'clubs', 'clubs', 'clubs'), ('diamonds', 'diamonds', 'diamonds', 'diamonds', 'clubs', 'clubs', 'clubs', 'clubs', 'clubs', 'clubs'), ('diamonds', 'diamonds', 'diamonds', 'clubs', 'clubs', 'clubs', 'clubs', 'clubs', 'clubs', 'clubs'), ('diamonds', 'diamonds', 'clubs', 'clubs', 'clubs', 'clubs', 'clubs', 'clubs', 'clubs', 'clubs'), ('diamonds', 'clubs', 'clubs', 'clubs', 'clubs', 'clubs', 'clubs', 'clubs', 'clubs', 'clubs'), ('clubs', 'clubs', 'clubs', 'clubs', 'clubs', 'clubs', 'clubs', 'clubs', 'clubs', 'clubs')]\n"
          ]
        }
      ]
    },
    {
      "cell_type": "markdown",
      "source": [
        "In above I can see there are lot of element which kind of look like a right number of elements, but really hard to count."
      ],
      "metadata": {
        "id": "g3gD3Fpv7ziH"
      }
    },
    {
      "cell_type": "code",
      "source": [
        "len(list(combinations_with_replacement(possibleCard,10)))"
      ],
      "metadata": {
        "id": "6ihEiQOo7x5c",
        "outputId": "aef7d323-01b0-492c-930f-40165b819b9c",
        "colab": {
          "base_uri": "https://localhost:8080/"
        }
      },
      "execution_count": 13,
      "outputs": [
        {
          "output_type": "execute_result",
          "data": {
            "text/plain": [
              "286"
            ]
          },
          "metadata": {},
          "execution_count": 13
        }
      ]
    }
  ]
}