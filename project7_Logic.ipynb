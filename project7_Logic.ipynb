{
  "nbformat": 4,
  "nbformat_minor": 0,
  "metadata": {
    "colab": {
      "name": "Untitled0.ipynb",
      "provenance": [],
      "include_colab_link": true
    },
    "kernelspec": {
      "name": "python3",
      "display_name": "Python 3"
    }
  },
  "cells": [
    {
      "cell_type": "markdown",
      "metadata": {
        "id": "view-in-github",
        "colab_type": "text"
      },
      "source": [
        "<a href=\"https://colab.research.google.com/github/SagarSitaula1/Discrete_math/blob/main/project7_Logic.ipynb\" target=\"_parent\"><img src=\"https://colab.research.google.com/assets/colab-badge.svg\" alt=\"Open In Colab\"/></a>"
      ]
    },
    {
      "cell_type": "markdown",
      "metadata": {
        "id": "YCJaepmmfKrS"
      },
      "source": [
        "# Project Part 7# : CPSMA 3133 [Dr. Jacob's](https://github.com/nurfnick) Discrete Mathematics \n",
        "\n",
        "## Logic\n",
        "\n",
        "### Sagar Sitaula and 267865\n",
        "\n",
        "\n"
      ]
    },
    {
      "cell_type": "markdown",
      "source": [
        "For my proposotions, I will be looking at the different weather condition and my desire to leave my bed to go outside."
      ],
      "metadata": {
        "id": "W2vYxWs7pzYe"
      }
    },
    {
      "cell_type": "code",
      "source": [
        "issunny = True\n",
        "israiny = True\n",
        "issnowy = False\n",
        "\n"
      ],
      "metadata": {
        "id": "l3-HVYvzqLT6"
      },
      "execution_count": 2,
      "outputs": []
    },
    {
      "cell_type": "markdown",
      "source": [
        "Here, I have created different conditions and labled then with True and False, True being yes and False being No.The first is If I will go out if it is sunny, second is rainy and the third is snowny and are represented as True of false.True meaning yes and false meaning no.\n",
        "\n",
        "Now, I will computing different truth statement for the above conditions.\n",
        "\n",
        "$$p \\land r$$\n",
        "\n"
      ],
      "metadata": {
        "id": "ZONMgp7qq-Dj"
      }
    },
    {
      "cell_type": "code",
      "source": [
        "issunny and israiny"
      ],
      "metadata": {
        "id": "wRIEH1czsTu1",
        "outputId": "1303840c-8c7e-42ad-b712-408f39956652",
        "colab": {
          "base_uri": "https://localhost:8080/"
        }
      },
      "execution_count": 3,
      "outputs": [
        {
          "output_type": "execute_result",
          "data": {
            "text/plain": [
              "True"
            ]
          },
          "metadata": {},
          "execution_count": 3
        }
      ]
    },
    {
      "cell_type": "markdown",
      "source": [
        "Now,\n",
        "\n",
        "  $r \\lor \\lnot q $"
      ],
      "metadata": {
        "id": "ilallOvCshjX"
      }
    },
    {
      "cell_type": "code",
      "source": [
        "israiny or not(issnowy)"
      ],
      "metadata": {
        "id": "MusvwwJNs5s7",
        "outputId": "fbeb10e2-3a25-45c6-f495-f7688af2bddc",
        "colab": {
          "base_uri": "https://localhost:8080/"
        }
      },
      "execution_count": 4,
      "outputs": [
        {
          "output_type": "execute_result",
          "data": {
            "text/plain": [
              "True"
            ]
          },
          "metadata": {},
          "execution_count": 4
        }
      ]
    },
    {
      "cell_type": "markdown",
      "source": [
        "Now, \n",
        "\n",
        "\n",
        "$r\\Rightarrow p$ "
      ],
      "metadata": {
        "id": "QPSx8gcBtZsF"
      }
    },
    {
      "cell_type": "code",
      "source": [
        "not(israiny) or issunny"
      ],
      "metadata": {
        "id": "rwW3oSrCtn9G",
        "outputId": "926eec05-93c3-4e2b-8504-98ba209bf204",
        "colab": {
          "base_uri": "https://localhost:8080/"
        }
      },
      "execution_count": 5,
      "outputs": [
        {
          "output_type": "execute_result",
          "data": {
            "text/plain": [
              "True"
            ]
          },
          "metadata": {},
          "execution_count": 5
        }
      ]
    },
    {
      "cell_type": "markdown",
      "source": [
        "Now, time for creating the truth table.\n"
      ],
      "metadata": {
        "id": "ssEtN65suTAV"
      }
    },
    {
      "cell_type": "code",
      "source": [
        "!pip install truth-table-generator\n",
        "import ttg"
      ],
      "metadata": {
        "id": "tIvpCNSWuaRt",
        "outputId": "ceafbb5e-4dd7-43f3-fcdc-ffc608bd7cf6",
        "colab": {
          "base_uri": "https://localhost:8080/"
        }
      },
      "execution_count": 6,
      "outputs": [
        {
          "output_type": "stream",
          "name": "stdout",
          "text": [
            "Collecting truth-table-generator\n",
            "  Downloading truth_table_generator-1.1.2.tar.gz (14 kB)\n",
            "Requirement already satisfied: numpy in /usr/local/lib/python3.7/dist-packages (from truth-table-generator) (1.21.5)\n",
            "Requirement already satisfied: pandas in /usr/local/lib/python3.7/dist-packages (from truth-table-generator) (1.3.5)\n",
            "Collecting PTable\n",
            "  Downloading PTable-0.9.2.tar.gz (31 kB)\n",
            "Requirement already satisfied: pyparsing in /usr/local/lib/python3.7/dist-packages (from truth-table-generator) (3.0.7)\n",
            "Requirement already satisfied: tabulate in /usr/local/lib/python3.7/dist-packages (from truth-table-generator) (0.8.9)\n",
            "Requirement already satisfied: jinja2 in /usr/local/lib/python3.7/dist-packages (from truth-table-generator) (2.11.3)\n",
            "Requirement already satisfied: MarkupSafe>=0.23 in /usr/local/lib/python3.7/dist-packages (from jinja2->truth-table-generator) (2.0.1)\n",
            "Requirement already satisfied: python-dateutil>=2.7.3 in /usr/local/lib/python3.7/dist-packages (from pandas->truth-table-generator) (2.8.2)\n",
            "Requirement already satisfied: pytz>=2017.3 in /usr/local/lib/python3.7/dist-packages (from pandas->truth-table-generator) (2018.9)\n",
            "Requirement already satisfied: six>=1.5 in /usr/local/lib/python3.7/dist-packages (from python-dateutil>=2.7.3->pandas->truth-table-generator) (1.15.0)\n",
            "Building wheels for collected packages: truth-table-generator, PTable\n",
            "  Building wheel for truth-table-generator (setup.py) ... \u001b[?25l\u001b[?25hdone\n",
            "  Created wheel for truth-table-generator: filename=truth_table_generator-1.1.2-py3-none-any.whl size=13960 sha256=03bb49229ed44fd1134b87ef3702c3fb24385d89fdb9c05bd46db52e11ff868e\n",
            "  Stored in directory: /root/.cache/pip/wheels/9a/55/b5/77f5756832494eafda92c7a94c1365ac31088a18a3a97dd480\n",
            "  Building wheel for PTable (setup.py) ... \u001b[?25l\u001b[?25hdone\n",
            "  Created wheel for PTable: filename=PTable-0.9.2-py3-none-any.whl size=22925 sha256=3ef88c2c252bc4f558b2858e8b1691311947c4fdf56acb97bb5f6c29247e4b57\n",
            "  Stored in directory: /root/.cache/pip/wheels/33/df/2f/674985b3f8a2de3f96357d1eadef5110f74fa91b3785e52a54\n",
            "Successfully built truth-table-generator PTable\n",
            "Installing collected packages: PTable, truth-table-generator\n",
            "Successfully installed PTable-0.9.2 truth-table-generator-1.1.2\n"
          ]
        }
      ]
    },
    {
      "cell_type": "code",
      "source": [
        "table = ttg.Truths(['issunny', 'israiny', 'issnowy'], ['issunny xor israiny', '~(issunny xor israiny)', 'israiny or issnowy', '(~(issunny xor israiny)) => (israiny or issnowy)'], ints = False)\n",
        "table.as_pandas().style.set_properties(**{'text-align': 'left'}).hide_index()"
      ],
      "metadata": {
        "id": "82O76hC-u5Np",
        "outputId": "89913cbe-6992-42b1-a862-d50926f2a029",
        "colab": {
          "base_uri": "https://localhost:8080/",
          "height": 300
        }
      },
      "execution_count": 7,
      "outputs": [
        {
          "output_type": "execute_result",
          "data": {
            "text/html": [
              "<style type=\"text/css\">\n",
              "#T_46ce1_row0_col0, #T_46ce1_row0_col1, #T_46ce1_row0_col2, #T_46ce1_row0_col3, #T_46ce1_row0_col4, #T_46ce1_row0_col5, #T_46ce1_row0_col6, #T_46ce1_row1_col0, #T_46ce1_row1_col1, #T_46ce1_row1_col2, #T_46ce1_row1_col3, #T_46ce1_row1_col4, #T_46ce1_row1_col5, #T_46ce1_row1_col6, #T_46ce1_row2_col0, #T_46ce1_row2_col1, #T_46ce1_row2_col2, #T_46ce1_row2_col3, #T_46ce1_row2_col4, #T_46ce1_row2_col5, #T_46ce1_row2_col6, #T_46ce1_row3_col0, #T_46ce1_row3_col1, #T_46ce1_row3_col2, #T_46ce1_row3_col3, #T_46ce1_row3_col4, #T_46ce1_row3_col5, #T_46ce1_row3_col6, #T_46ce1_row4_col0, #T_46ce1_row4_col1, #T_46ce1_row4_col2, #T_46ce1_row4_col3, #T_46ce1_row4_col4, #T_46ce1_row4_col5, #T_46ce1_row4_col6, #T_46ce1_row5_col0, #T_46ce1_row5_col1, #T_46ce1_row5_col2, #T_46ce1_row5_col3, #T_46ce1_row5_col4, #T_46ce1_row5_col5, #T_46ce1_row5_col6, #T_46ce1_row6_col0, #T_46ce1_row6_col1, #T_46ce1_row6_col2, #T_46ce1_row6_col3, #T_46ce1_row6_col4, #T_46ce1_row6_col5, #T_46ce1_row6_col6, #T_46ce1_row7_col0, #T_46ce1_row7_col1, #T_46ce1_row7_col2, #T_46ce1_row7_col3, #T_46ce1_row7_col4, #T_46ce1_row7_col5, #T_46ce1_row7_col6 {\n",
              "  text-align: left;\n",
              "}\n",
              "</style>\n",
              "<table id=\"T_46ce1_\" class=\"dataframe\">\n",
              "  <thead>\n",
              "    <tr>\n",
              "      <th class=\"col_heading level0 col0\" >issunny</th>\n",
              "      <th class=\"col_heading level0 col1\" >israiny</th>\n",
              "      <th class=\"col_heading level0 col2\" >issnowy</th>\n",
              "      <th class=\"col_heading level0 col3\" >issunny xor israiny</th>\n",
              "      <th class=\"col_heading level0 col4\" >~(issunny xor israiny)</th>\n",
              "      <th class=\"col_heading level0 col5\" >israiny or issnowy</th>\n",
              "      <th class=\"col_heading level0 col6\" >(~(issunny xor israiny)) => (israiny or issnowy)</th>\n",
              "    </tr>\n",
              "  </thead>\n",
              "  <tbody>\n",
              "    <tr>\n",
              "      <td id=\"T_46ce1_row0_col0\" class=\"data row0 col0\" >True</td>\n",
              "      <td id=\"T_46ce1_row0_col1\" class=\"data row0 col1\" >True</td>\n",
              "      <td id=\"T_46ce1_row0_col2\" class=\"data row0 col2\" >True</td>\n",
              "      <td id=\"T_46ce1_row0_col3\" class=\"data row0 col3\" >False</td>\n",
              "      <td id=\"T_46ce1_row0_col4\" class=\"data row0 col4\" >True</td>\n",
              "      <td id=\"T_46ce1_row0_col5\" class=\"data row0 col5\" >True</td>\n",
              "      <td id=\"T_46ce1_row0_col6\" class=\"data row0 col6\" >True</td>\n",
              "    </tr>\n",
              "    <tr>\n",
              "      <td id=\"T_46ce1_row1_col0\" class=\"data row1 col0\" >True</td>\n",
              "      <td id=\"T_46ce1_row1_col1\" class=\"data row1 col1\" >True</td>\n",
              "      <td id=\"T_46ce1_row1_col2\" class=\"data row1 col2\" >False</td>\n",
              "      <td id=\"T_46ce1_row1_col3\" class=\"data row1 col3\" >False</td>\n",
              "      <td id=\"T_46ce1_row1_col4\" class=\"data row1 col4\" >True</td>\n",
              "      <td id=\"T_46ce1_row1_col5\" class=\"data row1 col5\" >True</td>\n",
              "      <td id=\"T_46ce1_row1_col6\" class=\"data row1 col6\" >True</td>\n",
              "    </tr>\n",
              "    <tr>\n",
              "      <td id=\"T_46ce1_row2_col0\" class=\"data row2 col0\" >True</td>\n",
              "      <td id=\"T_46ce1_row2_col1\" class=\"data row2 col1\" >False</td>\n",
              "      <td id=\"T_46ce1_row2_col2\" class=\"data row2 col2\" >True</td>\n",
              "      <td id=\"T_46ce1_row2_col3\" class=\"data row2 col3\" >True</td>\n",
              "      <td id=\"T_46ce1_row2_col4\" class=\"data row2 col4\" >False</td>\n",
              "      <td id=\"T_46ce1_row2_col5\" class=\"data row2 col5\" >True</td>\n",
              "      <td id=\"T_46ce1_row2_col6\" class=\"data row2 col6\" >True</td>\n",
              "    </tr>\n",
              "    <tr>\n",
              "      <td id=\"T_46ce1_row3_col0\" class=\"data row3 col0\" >True</td>\n",
              "      <td id=\"T_46ce1_row3_col1\" class=\"data row3 col1\" >False</td>\n",
              "      <td id=\"T_46ce1_row3_col2\" class=\"data row3 col2\" >False</td>\n",
              "      <td id=\"T_46ce1_row3_col3\" class=\"data row3 col3\" >True</td>\n",
              "      <td id=\"T_46ce1_row3_col4\" class=\"data row3 col4\" >False</td>\n",
              "      <td id=\"T_46ce1_row3_col5\" class=\"data row3 col5\" >False</td>\n",
              "      <td id=\"T_46ce1_row3_col6\" class=\"data row3 col6\" >True</td>\n",
              "    </tr>\n",
              "    <tr>\n",
              "      <td id=\"T_46ce1_row4_col0\" class=\"data row4 col0\" >False</td>\n",
              "      <td id=\"T_46ce1_row4_col1\" class=\"data row4 col1\" >True</td>\n",
              "      <td id=\"T_46ce1_row4_col2\" class=\"data row4 col2\" >True</td>\n",
              "      <td id=\"T_46ce1_row4_col3\" class=\"data row4 col3\" >True</td>\n",
              "      <td id=\"T_46ce1_row4_col4\" class=\"data row4 col4\" >False</td>\n",
              "      <td id=\"T_46ce1_row4_col5\" class=\"data row4 col5\" >True</td>\n",
              "      <td id=\"T_46ce1_row4_col6\" class=\"data row4 col6\" >True</td>\n",
              "    </tr>\n",
              "    <tr>\n",
              "      <td id=\"T_46ce1_row5_col0\" class=\"data row5 col0\" >False</td>\n",
              "      <td id=\"T_46ce1_row5_col1\" class=\"data row5 col1\" >True</td>\n",
              "      <td id=\"T_46ce1_row5_col2\" class=\"data row5 col2\" >False</td>\n",
              "      <td id=\"T_46ce1_row5_col3\" class=\"data row5 col3\" >True</td>\n",
              "      <td id=\"T_46ce1_row5_col4\" class=\"data row5 col4\" >False</td>\n",
              "      <td id=\"T_46ce1_row5_col5\" class=\"data row5 col5\" >True</td>\n",
              "      <td id=\"T_46ce1_row5_col6\" class=\"data row5 col6\" >True</td>\n",
              "    </tr>\n",
              "    <tr>\n",
              "      <td id=\"T_46ce1_row6_col0\" class=\"data row6 col0\" >False</td>\n",
              "      <td id=\"T_46ce1_row6_col1\" class=\"data row6 col1\" >False</td>\n",
              "      <td id=\"T_46ce1_row6_col2\" class=\"data row6 col2\" >True</td>\n",
              "      <td id=\"T_46ce1_row6_col3\" class=\"data row6 col3\" >False</td>\n",
              "      <td id=\"T_46ce1_row6_col4\" class=\"data row6 col4\" >True</td>\n",
              "      <td id=\"T_46ce1_row6_col5\" class=\"data row6 col5\" >True</td>\n",
              "      <td id=\"T_46ce1_row6_col6\" class=\"data row6 col6\" >True</td>\n",
              "    </tr>\n",
              "    <tr>\n",
              "      <td id=\"T_46ce1_row7_col0\" class=\"data row7 col0\" >False</td>\n",
              "      <td id=\"T_46ce1_row7_col1\" class=\"data row7 col1\" >False</td>\n",
              "      <td id=\"T_46ce1_row7_col2\" class=\"data row7 col2\" >False</td>\n",
              "      <td id=\"T_46ce1_row7_col3\" class=\"data row7 col3\" >False</td>\n",
              "      <td id=\"T_46ce1_row7_col4\" class=\"data row7 col4\" >True</td>\n",
              "      <td id=\"T_46ce1_row7_col5\" class=\"data row7 col5\" >False</td>\n",
              "      <td id=\"T_46ce1_row7_col6\" class=\"data row7 col6\" >False</td>\n",
              "    </tr>\n",
              "  </tbody>\n",
              "</table>\n"
            ],
            "text/plain": [
              "<pandas.io.formats.style.Styler at 0x7f29dde2d550>"
            ]
          },
          "metadata": {},
          "execution_count": 7
        }
      ]
    },
    {
      "cell_type": "markdown",
      "source": [
        "Above is the truth table for my propositions."
      ],
      "metadata": {
        "id": "GJ8uWndGshKS"
      }
    }
  ]
}